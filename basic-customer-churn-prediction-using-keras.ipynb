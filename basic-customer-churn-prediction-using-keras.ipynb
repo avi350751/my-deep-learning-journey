{
 "cells": [
  {
   "cell_type": "code",
   "execution_count": 1,
   "id": "6f579146",
   "metadata": {
    "_cell_guid": "b1076dfc-b9ad-4769-8c92-a6c4dae69d19",
    "_uuid": "8f2839f25d086af736a60e9eeb907d3b93b6e0e5",
    "execution": {
     "iopub.execute_input": "2024-11-16T21:56:37.402950Z",
     "iopub.status.busy": "2024-11-16T21:56:37.402500Z",
     "iopub.status.idle": "2024-11-16T21:56:38.461428Z",
     "shell.execute_reply": "2024-11-16T21:56:38.459990Z"
    },
    "papermill": {
     "duration": 1.075413,
     "end_time": "2024-11-16T21:56:38.464262",
     "exception": false,
     "start_time": "2024-11-16T21:56:37.388849",
     "status": "completed"
    },
    "tags": []
   },
   "outputs": [
    {
     "name": "stdout",
     "output_type": "stream",
     "text": [
      "/kaggle/input/credit-card-customer-churn-prediction/Churn_Modelling.csv\n"
     ]
    }
   ],
   "source": [
    "# This Python 3 environment comes with many helpful analytics libraries installed\n",
    "# It is defined by the kaggle/python Docker image: https://github.com/kaggle/docker-python\n",
    "# For example, here's several helpful packages to load\n",
    "\n",
    "import numpy as np # linear algebra\n",
    "import pandas as pd # data processing, CSV file I/O (e.g. pd.read_csv)\n",
    "\n",
    "# Input data files are available in the read-only \"../input/\" directory\n",
    "# For example, running this (by clicking run or pressing Shift+Enter) will list all files under the input directory\n",
    "\n",
    "import os\n",
    "for dirname, _, filenames in os.walk('/kaggle/input'):\n",
    "    for filename in filenames:\n",
    "        print(os.path.join(dirname, filename))\n",
    "\n",
    "# You can write up to 20GB to the current directory (/kaggle/working/) that gets preserved as output when you create a version using \"Save & Run All\" \n",
    "# You can also write temporary files to /kaggle/temp/, but they won't be saved outside of the current session"
   ]
  },
  {
   "cell_type": "code",
   "execution_count": 2,
   "id": "94b23be4",
   "metadata": {
    "execution": {
     "iopub.execute_input": "2024-11-16T21:56:38.489918Z",
     "iopub.status.busy": "2024-11-16T21:56:38.489260Z",
     "iopub.status.idle": "2024-11-16T21:56:38.580578Z",
     "shell.execute_reply": "2024-11-16T21:56:38.579246Z"
    },
    "papermill": {
     "duration": 0.106968,
     "end_time": "2024-11-16T21:56:38.583405",
     "exception": false,
     "start_time": "2024-11-16T21:56:38.476437",
     "status": "completed"
    },
    "tags": []
   },
   "outputs": [
    {
     "data": {
      "text/html": [
       "<div>\n",
       "<style scoped>\n",
       "    .dataframe tbody tr th:only-of-type {\n",
       "        vertical-align: middle;\n",
       "    }\n",
       "\n",
       "    .dataframe tbody tr th {\n",
       "        vertical-align: top;\n",
       "    }\n",
       "\n",
       "    .dataframe thead th {\n",
       "        text-align: right;\n",
       "    }\n",
       "</style>\n",
       "<table border=\"1\" class=\"dataframe\">\n",
       "  <thead>\n",
       "    <tr style=\"text-align: right;\">\n",
       "      <th></th>\n",
       "      <th>RowNumber</th>\n",
       "      <th>CustomerId</th>\n",
       "      <th>Surname</th>\n",
       "      <th>CreditScore</th>\n",
       "      <th>Geography</th>\n",
       "      <th>Gender</th>\n",
       "      <th>Age</th>\n",
       "      <th>Tenure</th>\n",
       "      <th>Balance</th>\n",
       "      <th>NumOfProducts</th>\n",
       "      <th>HasCrCard</th>\n",
       "      <th>IsActiveMember</th>\n",
       "      <th>EstimatedSalary</th>\n",
       "      <th>Exited</th>\n",
       "    </tr>\n",
       "  </thead>\n",
       "  <tbody>\n",
       "    <tr>\n",
       "      <th>0</th>\n",
       "      <td>1</td>\n",
       "      <td>15634602</td>\n",
       "      <td>Hargrave</td>\n",
       "      <td>619</td>\n",
       "      <td>France</td>\n",
       "      <td>Female</td>\n",
       "      <td>42</td>\n",
       "      <td>2</td>\n",
       "      <td>0.00</td>\n",
       "      <td>1</td>\n",
       "      <td>1</td>\n",
       "      <td>1</td>\n",
       "      <td>101348.88</td>\n",
       "      <td>1</td>\n",
       "    </tr>\n",
       "    <tr>\n",
       "      <th>1</th>\n",
       "      <td>2</td>\n",
       "      <td>15647311</td>\n",
       "      <td>Hill</td>\n",
       "      <td>608</td>\n",
       "      <td>Spain</td>\n",
       "      <td>Female</td>\n",
       "      <td>41</td>\n",
       "      <td>1</td>\n",
       "      <td>83807.86</td>\n",
       "      <td>1</td>\n",
       "      <td>0</td>\n",
       "      <td>1</td>\n",
       "      <td>112542.58</td>\n",
       "      <td>0</td>\n",
       "    </tr>\n",
       "    <tr>\n",
       "      <th>2</th>\n",
       "      <td>3</td>\n",
       "      <td>15619304</td>\n",
       "      <td>Onio</td>\n",
       "      <td>502</td>\n",
       "      <td>France</td>\n",
       "      <td>Female</td>\n",
       "      <td>42</td>\n",
       "      <td>8</td>\n",
       "      <td>159660.80</td>\n",
       "      <td>3</td>\n",
       "      <td>1</td>\n",
       "      <td>0</td>\n",
       "      <td>113931.57</td>\n",
       "      <td>1</td>\n",
       "    </tr>\n",
       "    <tr>\n",
       "      <th>3</th>\n",
       "      <td>4</td>\n",
       "      <td>15701354</td>\n",
       "      <td>Boni</td>\n",
       "      <td>699</td>\n",
       "      <td>France</td>\n",
       "      <td>Female</td>\n",
       "      <td>39</td>\n",
       "      <td>1</td>\n",
       "      <td>0.00</td>\n",
       "      <td>2</td>\n",
       "      <td>0</td>\n",
       "      <td>0</td>\n",
       "      <td>93826.63</td>\n",
       "      <td>0</td>\n",
       "    </tr>\n",
       "    <tr>\n",
       "      <th>4</th>\n",
       "      <td>5</td>\n",
       "      <td>15737888</td>\n",
       "      <td>Mitchell</td>\n",
       "      <td>850</td>\n",
       "      <td>Spain</td>\n",
       "      <td>Female</td>\n",
       "      <td>43</td>\n",
       "      <td>2</td>\n",
       "      <td>125510.82</td>\n",
       "      <td>1</td>\n",
       "      <td>1</td>\n",
       "      <td>1</td>\n",
       "      <td>79084.10</td>\n",
       "      <td>0</td>\n",
       "    </tr>\n",
       "  </tbody>\n",
       "</table>\n",
       "</div>"
      ],
      "text/plain": [
       "   RowNumber  CustomerId   Surname  CreditScore Geography  Gender  Age  \\\n",
       "0          1    15634602  Hargrave          619    France  Female   42   \n",
       "1          2    15647311      Hill          608     Spain  Female   41   \n",
       "2          3    15619304      Onio          502    France  Female   42   \n",
       "3          4    15701354      Boni          699    France  Female   39   \n",
       "4          5    15737888  Mitchell          850     Spain  Female   43   \n",
       "\n",
       "   Tenure    Balance  NumOfProducts  HasCrCard  IsActiveMember  \\\n",
       "0       2       0.00              1          1               1   \n",
       "1       1   83807.86              1          0               1   \n",
       "2       8  159660.80              3          1               0   \n",
       "3       1       0.00              2          0               0   \n",
       "4       2  125510.82              1          1               1   \n",
       "\n",
       "   EstimatedSalary  Exited  \n",
       "0        101348.88       1  \n",
       "1        112542.58       0  \n",
       "2        113931.57       1  \n",
       "3         93826.63       0  \n",
       "4         79084.10       0  "
      ]
     },
     "execution_count": 2,
     "metadata": {},
     "output_type": "execute_result"
    }
   ],
   "source": [
    "df = pd.read_csv('/kaggle/input/credit-card-customer-churn-prediction/Churn_Modelling.csv')\n",
    "df.head()"
   ]
  },
  {
   "cell_type": "code",
   "execution_count": 3,
   "id": "d21f0343",
   "metadata": {
    "execution": {
     "iopub.execute_input": "2024-11-16T21:56:38.608853Z",
     "iopub.status.busy": "2024-11-16T21:56:38.608402Z",
     "iopub.status.idle": "2024-11-16T21:56:38.616271Z",
     "shell.execute_reply": "2024-11-16T21:56:38.614889Z"
    },
    "papermill": {
     "duration": 0.023546,
     "end_time": "2024-11-16T21:56:38.618897",
     "exception": false,
     "start_time": "2024-11-16T21:56:38.595351",
     "status": "completed"
    },
    "tags": []
   },
   "outputs": [
    {
     "data": {
      "text/plain": [
       "(10000, 14)"
      ]
     },
     "execution_count": 3,
     "metadata": {},
     "output_type": "execute_result"
    }
   ],
   "source": [
    "df.shape"
   ]
  },
  {
   "cell_type": "code",
   "execution_count": 4,
   "id": "ec3db9df",
   "metadata": {
    "execution": {
     "iopub.execute_input": "2024-11-16T21:56:38.644541Z",
     "iopub.status.busy": "2024-11-16T21:56:38.644078Z",
     "iopub.status.idle": "2024-11-16T21:56:38.679044Z",
     "shell.execute_reply": "2024-11-16T21:56:38.677483Z"
    },
    "papermill": {
     "duration": 0.05085,
     "end_time": "2024-11-16T21:56:38.681775",
     "exception": false,
     "start_time": "2024-11-16T21:56:38.630925",
     "status": "completed"
    },
    "tags": []
   },
   "outputs": [
    {
     "name": "stdout",
     "output_type": "stream",
     "text": [
      "<class 'pandas.core.frame.DataFrame'>\n",
      "RangeIndex: 10000 entries, 0 to 9999\n",
      "Data columns (total 14 columns):\n",
      " #   Column           Non-Null Count  Dtype  \n",
      "---  ------           --------------  -----  \n",
      " 0   RowNumber        10000 non-null  int64  \n",
      " 1   CustomerId       10000 non-null  int64  \n",
      " 2   Surname          10000 non-null  object \n",
      " 3   CreditScore      10000 non-null  int64  \n",
      " 4   Geography        10000 non-null  object \n",
      " 5   Gender           10000 non-null  object \n",
      " 6   Age              10000 non-null  int64  \n",
      " 7   Tenure           10000 non-null  int64  \n",
      " 8   Balance          10000 non-null  float64\n",
      " 9   NumOfProducts    10000 non-null  int64  \n",
      " 10  HasCrCard        10000 non-null  int64  \n",
      " 11  IsActiveMember   10000 non-null  int64  \n",
      " 12  EstimatedSalary  10000 non-null  float64\n",
      " 13  Exited           10000 non-null  int64  \n",
      "dtypes: float64(2), int64(9), object(3)\n",
      "memory usage: 1.1+ MB\n"
     ]
    }
   ],
   "source": [
    "df.info()"
   ]
  },
  {
   "cell_type": "code",
   "execution_count": 5,
   "id": "43a85720",
   "metadata": {
    "execution": {
     "iopub.execute_input": "2024-11-16T21:56:38.709131Z",
     "iopub.status.busy": "2024-11-16T21:56:38.708667Z",
     "iopub.status.idle": "2024-11-16T21:56:38.726115Z",
     "shell.execute_reply": "2024-11-16T21:56:38.724607Z"
    },
    "papermill": {
     "duration": 0.034173,
     "end_time": "2024-11-16T21:56:38.729009",
     "exception": false,
     "start_time": "2024-11-16T21:56:38.694836",
     "status": "completed"
    },
    "tags": []
   },
   "outputs": [
    {
     "data": {
      "text/plain": [
       "0"
      ]
     },
     "execution_count": 5,
     "metadata": {},
     "output_type": "execute_result"
    }
   ],
   "source": [
    "df.duplicated().sum()"
   ]
  },
  {
   "cell_type": "code",
   "execution_count": 6,
   "id": "e54dbf1c",
   "metadata": {
    "execution": {
     "iopub.execute_input": "2024-11-16T21:56:38.766176Z",
     "iopub.status.busy": "2024-11-16T21:56:38.765735Z",
     "iopub.status.idle": "2024-11-16T21:56:38.776803Z",
     "shell.execute_reply": "2024-11-16T21:56:38.775699Z"
    },
    "papermill": {
     "duration": 0.038425,
     "end_time": "2024-11-16T21:56:38.779863",
     "exception": false,
     "start_time": "2024-11-16T21:56:38.741438",
     "status": "completed"
    },
    "tags": []
   },
   "outputs": [
    {
     "data": {
      "text/plain": [
       "Exited\n",
       "0    7963\n",
       "1    2037\n",
       "Name: count, dtype: int64"
      ]
     },
     "execution_count": 6,
     "metadata": {},
     "output_type": "execute_result"
    }
   ],
   "source": [
    "df['Exited'].value_counts()"
   ]
  },
  {
   "cell_type": "code",
   "execution_count": 7,
   "id": "5dc6ab2b",
   "metadata": {
    "execution": {
     "iopub.execute_input": "2024-11-16T21:56:38.807312Z",
     "iopub.status.busy": "2024-11-16T21:56:38.806202Z",
     "iopub.status.idle": "2024-11-16T21:56:38.817257Z",
     "shell.execute_reply": "2024-11-16T21:56:38.816169Z"
    },
    "papermill": {
     "duration": 0.02757,
     "end_time": "2024-11-16T21:56:38.819989",
     "exception": false,
     "start_time": "2024-11-16T21:56:38.792419",
     "status": "completed"
    },
    "tags": []
   },
   "outputs": [
    {
     "data": {
      "text/plain": [
       "Geography\n",
       "France     5014\n",
       "Germany    2509\n",
       "Spain      2477\n",
       "Name: count, dtype: int64"
      ]
     },
     "execution_count": 7,
     "metadata": {},
     "output_type": "execute_result"
    }
   ],
   "source": [
    "df['Geography'].value_counts()"
   ]
  },
  {
   "cell_type": "code",
   "execution_count": 8,
   "id": "17d516e8",
   "metadata": {
    "execution": {
     "iopub.execute_input": "2024-11-16T21:56:38.846958Z",
     "iopub.status.busy": "2024-11-16T21:56:38.846497Z",
     "iopub.status.idle": "2024-11-16T21:56:38.857530Z",
     "shell.execute_reply": "2024-11-16T21:56:38.856263Z"
    },
    "papermill": {
     "duration": 0.027523,
     "end_time": "2024-11-16T21:56:38.860166",
     "exception": false,
     "start_time": "2024-11-16T21:56:38.832643",
     "status": "completed"
    },
    "tags": []
   },
   "outputs": [
    {
     "data": {
      "text/plain": [
       "Gender\n",
       "Male      5457\n",
       "Female    4543\n",
       "Name: count, dtype: int64"
      ]
     },
     "execution_count": 8,
     "metadata": {},
     "output_type": "execute_result"
    }
   ],
   "source": [
    "df['Gender'].value_counts()"
   ]
  },
  {
   "cell_type": "code",
   "execution_count": 9,
   "id": "3ce2edc0",
   "metadata": {
    "execution": {
     "iopub.execute_input": "2024-11-16T21:56:38.887498Z",
     "iopub.status.busy": "2024-11-16T21:56:38.887005Z",
     "iopub.status.idle": "2024-11-16T21:56:38.899486Z",
     "shell.execute_reply": "2024-11-16T21:56:38.897976Z"
    },
    "papermill": {
     "duration": 0.029591,
     "end_time": "2024-11-16T21:56:38.902457",
     "exception": false,
     "start_time": "2024-11-16T21:56:38.872866",
     "status": "completed"
    },
    "tags": []
   },
   "outputs": [],
   "source": [
    "df.drop(columns=['RowNumber','CustomerId','Surname'],inplace=True)"
   ]
  },
  {
   "cell_type": "code",
   "execution_count": 10,
   "id": "3ea45db4",
   "metadata": {
    "execution": {
     "iopub.execute_input": "2024-11-16T21:56:38.930561Z",
     "iopub.status.busy": "2024-11-16T21:56:38.930032Z",
     "iopub.status.idle": "2024-11-16T21:56:38.948327Z",
     "shell.execute_reply": "2024-11-16T21:56:38.947155Z"
    },
    "papermill": {
     "duration": 0.036151,
     "end_time": "2024-11-16T21:56:38.951199",
     "exception": false,
     "start_time": "2024-11-16T21:56:38.915048",
     "status": "completed"
    },
    "tags": []
   },
   "outputs": [
    {
     "data": {
      "text/html": [
       "<div>\n",
       "<style scoped>\n",
       "    .dataframe tbody tr th:only-of-type {\n",
       "        vertical-align: middle;\n",
       "    }\n",
       "\n",
       "    .dataframe tbody tr th {\n",
       "        vertical-align: top;\n",
       "    }\n",
       "\n",
       "    .dataframe thead th {\n",
       "        text-align: right;\n",
       "    }\n",
       "</style>\n",
       "<table border=\"1\" class=\"dataframe\">\n",
       "  <thead>\n",
       "    <tr style=\"text-align: right;\">\n",
       "      <th></th>\n",
       "      <th>CreditScore</th>\n",
       "      <th>Geography</th>\n",
       "      <th>Gender</th>\n",
       "      <th>Age</th>\n",
       "      <th>Tenure</th>\n",
       "      <th>Balance</th>\n",
       "      <th>NumOfProducts</th>\n",
       "      <th>HasCrCard</th>\n",
       "      <th>IsActiveMember</th>\n",
       "      <th>EstimatedSalary</th>\n",
       "      <th>Exited</th>\n",
       "    </tr>\n",
       "  </thead>\n",
       "  <tbody>\n",
       "    <tr>\n",
       "      <th>0</th>\n",
       "      <td>619</td>\n",
       "      <td>France</td>\n",
       "      <td>Female</td>\n",
       "      <td>42</td>\n",
       "      <td>2</td>\n",
       "      <td>0.00</td>\n",
       "      <td>1</td>\n",
       "      <td>1</td>\n",
       "      <td>1</td>\n",
       "      <td>101348.88</td>\n",
       "      <td>1</td>\n",
       "    </tr>\n",
       "    <tr>\n",
       "      <th>1</th>\n",
       "      <td>608</td>\n",
       "      <td>Spain</td>\n",
       "      <td>Female</td>\n",
       "      <td>41</td>\n",
       "      <td>1</td>\n",
       "      <td>83807.86</td>\n",
       "      <td>1</td>\n",
       "      <td>0</td>\n",
       "      <td>1</td>\n",
       "      <td>112542.58</td>\n",
       "      <td>0</td>\n",
       "    </tr>\n",
       "    <tr>\n",
       "      <th>2</th>\n",
       "      <td>502</td>\n",
       "      <td>France</td>\n",
       "      <td>Female</td>\n",
       "      <td>42</td>\n",
       "      <td>8</td>\n",
       "      <td>159660.80</td>\n",
       "      <td>3</td>\n",
       "      <td>1</td>\n",
       "      <td>0</td>\n",
       "      <td>113931.57</td>\n",
       "      <td>1</td>\n",
       "    </tr>\n",
       "    <tr>\n",
       "      <th>3</th>\n",
       "      <td>699</td>\n",
       "      <td>France</td>\n",
       "      <td>Female</td>\n",
       "      <td>39</td>\n",
       "      <td>1</td>\n",
       "      <td>0.00</td>\n",
       "      <td>2</td>\n",
       "      <td>0</td>\n",
       "      <td>0</td>\n",
       "      <td>93826.63</td>\n",
       "      <td>0</td>\n",
       "    </tr>\n",
       "    <tr>\n",
       "      <th>4</th>\n",
       "      <td>850</td>\n",
       "      <td>Spain</td>\n",
       "      <td>Female</td>\n",
       "      <td>43</td>\n",
       "      <td>2</td>\n",
       "      <td>125510.82</td>\n",
       "      <td>1</td>\n",
       "      <td>1</td>\n",
       "      <td>1</td>\n",
       "      <td>79084.10</td>\n",
       "      <td>0</td>\n",
       "    </tr>\n",
       "  </tbody>\n",
       "</table>\n",
       "</div>"
      ],
      "text/plain": [
       "   CreditScore Geography  Gender  Age  Tenure    Balance  NumOfProducts  \\\n",
       "0          619    France  Female   42       2       0.00              1   \n",
       "1          608     Spain  Female   41       1   83807.86              1   \n",
       "2          502    France  Female   42       8  159660.80              3   \n",
       "3          699    France  Female   39       1       0.00              2   \n",
       "4          850     Spain  Female   43       2  125510.82              1   \n",
       "\n",
       "   HasCrCard  IsActiveMember  EstimatedSalary  Exited  \n",
       "0          1               1        101348.88       1  \n",
       "1          0               1        112542.58       0  \n",
       "2          1               0        113931.57       1  \n",
       "3          0               0         93826.63       0  \n",
       "4          1               1         79084.10       0  "
      ]
     },
     "execution_count": 10,
     "metadata": {},
     "output_type": "execute_result"
    }
   ],
   "source": [
    "df.head()"
   ]
  },
  {
   "cell_type": "code",
   "execution_count": 11,
   "id": "4780ec16",
   "metadata": {
    "execution": {
     "iopub.execute_input": "2024-11-16T21:56:38.980084Z",
     "iopub.status.busy": "2024-11-16T21:56:38.979633Z",
     "iopub.status.idle": "2024-11-16T21:56:38.994588Z",
     "shell.execute_reply": "2024-11-16T21:56:38.992793Z"
    },
    "papermill": {
     "duration": 0.033354,
     "end_time": "2024-11-16T21:56:38.997943",
     "exception": false,
     "start_time": "2024-11-16T21:56:38.964589",
     "status": "completed"
    },
    "tags": []
   },
   "outputs": [],
   "source": [
    "#One hot Encoding\n",
    "df = pd.get_dummies(df,columns=['Geography','Gender'],drop_first=True)"
   ]
  },
  {
   "cell_type": "code",
   "execution_count": 12,
   "id": "733f936d",
   "metadata": {
    "execution": {
     "iopub.execute_input": "2024-11-16T21:56:39.026819Z",
     "iopub.status.busy": "2024-11-16T21:56:39.026372Z",
     "iopub.status.idle": "2024-11-16T21:56:39.033610Z",
     "shell.execute_reply": "2024-11-16T21:56:39.032410Z"
    },
    "papermill": {
     "duration": 0.025328,
     "end_time": "2024-11-16T21:56:39.036378",
     "exception": false,
     "start_time": "2024-11-16T21:56:39.011050",
     "status": "completed"
    },
    "tags": []
   },
   "outputs": [],
   "source": [
    "for col in ['Geography_Germany', 'Geography_Spain', 'Gender_Male']:  # Replace with your actual dummy column names\n",
    "    df[col] = df[col].astype(int)"
   ]
  },
  {
   "cell_type": "code",
   "execution_count": 13,
   "id": "6c2e0f6a",
   "metadata": {
    "execution": {
     "iopub.execute_input": "2024-11-16T21:56:39.064518Z",
     "iopub.status.busy": "2024-11-16T21:56:39.064056Z",
     "iopub.status.idle": "2024-11-16T21:56:39.081613Z",
     "shell.execute_reply": "2024-11-16T21:56:39.080483Z"
    },
    "papermill": {
     "duration": 0.034792,
     "end_time": "2024-11-16T21:56:39.084307",
     "exception": false,
     "start_time": "2024-11-16T21:56:39.049515",
     "status": "completed"
    },
    "tags": []
   },
   "outputs": [
    {
     "data": {
      "text/html": [
       "<div>\n",
       "<style scoped>\n",
       "    .dataframe tbody tr th:only-of-type {\n",
       "        vertical-align: middle;\n",
       "    }\n",
       "\n",
       "    .dataframe tbody tr th {\n",
       "        vertical-align: top;\n",
       "    }\n",
       "\n",
       "    .dataframe thead th {\n",
       "        text-align: right;\n",
       "    }\n",
       "</style>\n",
       "<table border=\"1\" class=\"dataframe\">\n",
       "  <thead>\n",
       "    <tr style=\"text-align: right;\">\n",
       "      <th></th>\n",
       "      <th>CreditScore</th>\n",
       "      <th>Age</th>\n",
       "      <th>Tenure</th>\n",
       "      <th>Balance</th>\n",
       "      <th>NumOfProducts</th>\n",
       "      <th>HasCrCard</th>\n",
       "      <th>IsActiveMember</th>\n",
       "      <th>EstimatedSalary</th>\n",
       "      <th>Exited</th>\n",
       "      <th>Geography_Germany</th>\n",
       "      <th>Geography_Spain</th>\n",
       "      <th>Gender_Male</th>\n",
       "    </tr>\n",
       "  </thead>\n",
       "  <tbody>\n",
       "    <tr>\n",
       "      <th>0</th>\n",
       "      <td>619</td>\n",
       "      <td>42</td>\n",
       "      <td>2</td>\n",
       "      <td>0.00</td>\n",
       "      <td>1</td>\n",
       "      <td>1</td>\n",
       "      <td>1</td>\n",
       "      <td>101348.88</td>\n",
       "      <td>1</td>\n",
       "      <td>0</td>\n",
       "      <td>0</td>\n",
       "      <td>0</td>\n",
       "    </tr>\n",
       "    <tr>\n",
       "      <th>1</th>\n",
       "      <td>608</td>\n",
       "      <td>41</td>\n",
       "      <td>1</td>\n",
       "      <td>83807.86</td>\n",
       "      <td>1</td>\n",
       "      <td>0</td>\n",
       "      <td>1</td>\n",
       "      <td>112542.58</td>\n",
       "      <td>0</td>\n",
       "      <td>0</td>\n",
       "      <td>1</td>\n",
       "      <td>0</td>\n",
       "    </tr>\n",
       "    <tr>\n",
       "      <th>2</th>\n",
       "      <td>502</td>\n",
       "      <td>42</td>\n",
       "      <td>8</td>\n",
       "      <td>159660.80</td>\n",
       "      <td>3</td>\n",
       "      <td>1</td>\n",
       "      <td>0</td>\n",
       "      <td>113931.57</td>\n",
       "      <td>1</td>\n",
       "      <td>0</td>\n",
       "      <td>0</td>\n",
       "      <td>0</td>\n",
       "    </tr>\n",
       "    <tr>\n",
       "      <th>3</th>\n",
       "      <td>699</td>\n",
       "      <td>39</td>\n",
       "      <td>1</td>\n",
       "      <td>0.00</td>\n",
       "      <td>2</td>\n",
       "      <td>0</td>\n",
       "      <td>0</td>\n",
       "      <td>93826.63</td>\n",
       "      <td>0</td>\n",
       "      <td>0</td>\n",
       "      <td>0</td>\n",
       "      <td>0</td>\n",
       "    </tr>\n",
       "    <tr>\n",
       "      <th>4</th>\n",
       "      <td>850</td>\n",
       "      <td>43</td>\n",
       "      <td>2</td>\n",
       "      <td>125510.82</td>\n",
       "      <td>1</td>\n",
       "      <td>1</td>\n",
       "      <td>1</td>\n",
       "      <td>79084.10</td>\n",
       "      <td>0</td>\n",
       "      <td>0</td>\n",
       "      <td>1</td>\n",
       "      <td>0</td>\n",
       "    </tr>\n",
       "  </tbody>\n",
       "</table>\n",
       "</div>"
      ],
      "text/plain": [
       "   CreditScore  Age  Tenure    Balance  NumOfProducts  HasCrCard  \\\n",
       "0          619   42       2       0.00              1          1   \n",
       "1          608   41       1   83807.86              1          0   \n",
       "2          502   42       8  159660.80              3          1   \n",
       "3          699   39       1       0.00              2          0   \n",
       "4          850   43       2  125510.82              1          1   \n",
       "\n",
       "   IsActiveMember  EstimatedSalary  Exited  Geography_Germany  \\\n",
       "0               1        101348.88       1                  0   \n",
       "1               1        112542.58       0                  0   \n",
       "2               0        113931.57       1                  0   \n",
       "3               0         93826.63       0                  0   \n",
       "4               1         79084.10       0                  0   \n",
       "\n",
       "   Geography_Spain  Gender_Male  \n",
       "0                0            0  \n",
       "1                1            0  \n",
       "2                0            0  \n",
       "3                0            0  \n",
       "4                1            0  "
      ]
     },
     "execution_count": 13,
     "metadata": {},
     "output_type": "execute_result"
    }
   ],
   "source": [
    "df.head()"
   ]
  },
  {
   "cell_type": "code",
   "execution_count": 14,
   "id": "b1eef6ff",
   "metadata": {
    "execution": {
     "iopub.execute_input": "2024-11-16T21:56:39.113576Z",
     "iopub.status.busy": "2024-11-16T21:56:39.113099Z",
     "iopub.status.idle": "2024-11-16T21:56:40.927410Z",
     "shell.execute_reply": "2024-11-16T21:56:40.926091Z"
    },
    "papermill": {
     "duration": 1.832087,
     "end_time": "2024-11-16T21:56:40.930246",
     "exception": false,
     "start_time": "2024-11-16T21:56:39.098159",
     "status": "completed"
    },
    "tags": []
   },
   "outputs": [],
   "source": [
    "#Scale the data\n",
    "from sklearn.model_selection import train_test_split\n",
    "X = df.drop(columns=['Exited'])\n",
    "y = df['Exited']\n",
    "X_train,X_test,y_train,y_test = train_test_split(X,y,test_size=0.2,random_state=1)"
   ]
  },
  {
   "cell_type": "code",
   "execution_count": 15,
   "id": "5e6c3004",
   "metadata": {
    "execution": {
     "iopub.execute_input": "2024-11-16T21:56:40.959470Z",
     "iopub.status.busy": "2024-11-16T21:56:40.958776Z",
     "iopub.status.idle": "2024-11-16T21:56:40.979784Z",
     "shell.execute_reply": "2024-11-16T21:56:40.978646Z"
    },
    "papermill": {
     "duration": 0.038837,
     "end_time": "2024-11-16T21:56:40.982374",
     "exception": false,
     "start_time": "2024-11-16T21:56:40.943537",
     "status": "completed"
    },
    "tags": []
   },
   "outputs": [
    {
     "data": {
      "text/html": [
       "<div>\n",
       "<style scoped>\n",
       "    .dataframe tbody tr th:only-of-type {\n",
       "        vertical-align: middle;\n",
       "    }\n",
       "\n",
       "    .dataframe tbody tr th {\n",
       "        vertical-align: top;\n",
       "    }\n",
       "\n",
       "    .dataframe thead th {\n",
       "        text-align: right;\n",
       "    }\n",
       "</style>\n",
       "<table border=\"1\" class=\"dataframe\">\n",
       "  <thead>\n",
       "    <tr style=\"text-align: right;\">\n",
       "      <th></th>\n",
       "      <th>CreditScore</th>\n",
       "      <th>Age</th>\n",
       "      <th>Tenure</th>\n",
       "      <th>Balance</th>\n",
       "      <th>NumOfProducts</th>\n",
       "      <th>HasCrCard</th>\n",
       "      <th>IsActiveMember</th>\n",
       "      <th>EstimatedSalary</th>\n",
       "      <th>Geography_Germany</th>\n",
       "      <th>Geography_Spain</th>\n",
       "      <th>Gender_Male</th>\n",
       "    </tr>\n",
       "  </thead>\n",
       "  <tbody>\n",
       "    <tr>\n",
       "      <th>0</th>\n",
       "      <td>619</td>\n",
       "      <td>42</td>\n",
       "      <td>2</td>\n",
       "      <td>0.00</td>\n",
       "      <td>1</td>\n",
       "      <td>1</td>\n",
       "      <td>1</td>\n",
       "      <td>101348.88</td>\n",
       "      <td>0</td>\n",
       "      <td>0</td>\n",
       "      <td>0</td>\n",
       "    </tr>\n",
       "    <tr>\n",
       "      <th>1</th>\n",
       "      <td>608</td>\n",
       "      <td>41</td>\n",
       "      <td>1</td>\n",
       "      <td>83807.86</td>\n",
       "      <td>1</td>\n",
       "      <td>0</td>\n",
       "      <td>1</td>\n",
       "      <td>112542.58</td>\n",
       "      <td>0</td>\n",
       "      <td>1</td>\n",
       "      <td>0</td>\n",
       "    </tr>\n",
       "    <tr>\n",
       "      <th>2</th>\n",
       "      <td>502</td>\n",
       "      <td>42</td>\n",
       "      <td>8</td>\n",
       "      <td>159660.80</td>\n",
       "      <td>3</td>\n",
       "      <td>1</td>\n",
       "      <td>0</td>\n",
       "      <td>113931.57</td>\n",
       "      <td>0</td>\n",
       "      <td>0</td>\n",
       "      <td>0</td>\n",
       "    </tr>\n",
       "    <tr>\n",
       "      <th>3</th>\n",
       "      <td>699</td>\n",
       "      <td>39</td>\n",
       "      <td>1</td>\n",
       "      <td>0.00</td>\n",
       "      <td>2</td>\n",
       "      <td>0</td>\n",
       "      <td>0</td>\n",
       "      <td>93826.63</td>\n",
       "      <td>0</td>\n",
       "      <td>0</td>\n",
       "      <td>0</td>\n",
       "    </tr>\n",
       "    <tr>\n",
       "      <th>4</th>\n",
       "      <td>850</td>\n",
       "      <td>43</td>\n",
       "      <td>2</td>\n",
       "      <td>125510.82</td>\n",
       "      <td>1</td>\n",
       "      <td>1</td>\n",
       "      <td>1</td>\n",
       "      <td>79084.10</td>\n",
       "      <td>0</td>\n",
       "      <td>1</td>\n",
       "      <td>0</td>\n",
       "    </tr>\n",
       "    <tr>\n",
       "      <th>...</th>\n",
       "      <td>...</td>\n",
       "      <td>...</td>\n",
       "      <td>...</td>\n",
       "      <td>...</td>\n",
       "      <td>...</td>\n",
       "      <td>...</td>\n",
       "      <td>...</td>\n",
       "      <td>...</td>\n",
       "      <td>...</td>\n",
       "      <td>...</td>\n",
       "      <td>...</td>\n",
       "    </tr>\n",
       "    <tr>\n",
       "      <th>9995</th>\n",
       "      <td>771</td>\n",
       "      <td>39</td>\n",
       "      <td>5</td>\n",
       "      <td>0.00</td>\n",
       "      <td>2</td>\n",
       "      <td>1</td>\n",
       "      <td>0</td>\n",
       "      <td>96270.64</td>\n",
       "      <td>0</td>\n",
       "      <td>0</td>\n",
       "      <td>1</td>\n",
       "    </tr>\n",
       "    <tr>\n",
       "      <th>9996</th>\n",
       "      <td>516</td>\n",
       "      <td>35</td>\n",
       "      <td>10</td>\n",
       "      <td>57369.61</td>\n",
       "      <td>1</td>\n",
       "      <td>1</td>\n",
       "      <td>1</td>\n",
       "      <td>101699.77</td>\n",
       "      <td>0</td>\n",
       "      <td>0</td>\n",
       "      <td>1</td>\n",
       "    </tr>\n",
       "    <tr>\n",
       "      <th>9997</th>\n",
       "      <td>709</td>\n",
       "      <td>36</td>\n",
       "      <td>7</td>\n",
       "      <td>0.00</td>\n",
       "      <td>1</td>\n",
       "      <td>0</td>\n",
       "      <td>1</td>\n",
       "      <td>42085.58</td>\n",
       "      <td>0</td>\n",
       "      <td>0</td>\n",
       "      <td>0</td>\n",
       "    </tr>\n",
       "    <tr>\n",
       "      <th>9998</th>\n",
       "      <td>772</td>\n",
       "      <td>42</td>\n",
       "      <td>3</td>\n",
       "      <td>75075.31</td>\n",
       "      <td>2</td>\n",
       "      <td>1</td>\n",
       "      <td>0</td>\n",
       "      <td>92888.52</td>\n",
       "      <td>1</td>\n",
       "      <td>0</td>\n",
       "      <td>1</td>\n",
       "    </tr>\n",
       "    <tr>\n",
       "      <th>9999</th>\n",
       "      <td>792</td>\n",
       "      <td>28</td>\n",
       "      <td>4</td>\n",
       "      <td>130142.79</td>\n",
       "      <td>1</td>\n",
       "      <td>1</td>\n",
       "      <td>0</td>\n",
       "      <td>38190.78</td>\n",
       "      <td>0</td>\n",
       "      <td>0</td>\n",
       "      <td>0</td>\n",
       "    </tr>\n",
       "  </tbody>\n",
       "</table>\n",
       "<p>10000 rows × 11 columns</p>\n",
       "</div>"
      ],
      "text/plain": [
       "      CreditScore  Age  Tenure    Balance  NumOfProducts  HasCrCard  \\\n",
       "0             619   42       2       0.00              1          1   \n",
       "1             608   41       1   83807.86              1          0   \n",
       "2             502   42       8  159660.80              3          1   \n",
       "3             699   39       1       0.00              2          0   \n",
       "4             850   43       2  125510.82              1          1   \n",
       "...           ...  ...     ...        ...            ...        ...   \n",
       "9995          771   39       5       0.00              2          1   \n",
       "9996          516   35      10   57369.61              1          1   \n",
       "9997          709   36       7       0.00              1          0   \n",
       "9998          772   42       3   75075.31              2          1   \n",
       "9999          792   28       4  130142.79              1          1   \n",
       "\n",
       "      IsActiveMember  EstimatedSalary  Geography_Germany  Geography_Spain  \\\n",
       "0                  1        101348.88                  0                0   \n",
       "1                  1        112542.58                  0                1   \n",
       "2                  0        113931.57                  0                0   \n",
       "3                  0         93826.63                  0                0   \n",
       "4                  1         79084.10                  0                1   \n",
       "...              ...              ...                ...              ...   \n",
       "9995               0         96270.64                  0                0   \n",
       "9996               1        101699.77                  0                0   \n",
       "9997               1         42085.58                  0                0   \n",
       "9998               0         92888.52                  1                0   \n",
       "9999               0         38190.78                  0                0   \n",
       "\n",
       "      Gender_Male  \n",
       "0               0  \n",
       "1               0  \n",
       "2               0  \n",
       "3               0  \n",
       "4               0  \n",
       "...           ...  \n",
       "9995            1  \n",
       "9996            1  \n",
       "9997            0  \n",
       "9998            1  \n",
       "9999            0  \n",
       "\n",
       "[10000 rows x 11 columns]"
      ]
     },
     "execution_count": 15,
     "metadata": {},
     "output_type": "execute_result"
    }
   ],
   "source": [
    "X"
   ]
  },
  {
   "cell_type": "code",
   "execution_count": 16,
   "id": "c45eafbf",
   "metadata": {
    "execution": {
     "iopub.execute_input": "2024-11-16T21:56:41.011581Z",
     "iopub.status.busy": "2024-11-16T21:56:41.011103Z",
     "iopub.status.idle": "2024-11-16T21:56:41.020349Z",
     "shell.execute_reply": "2024-11-16T21:56:41.019201Z"
    },
    "papermill": {
     "duration": 0.02668,
     "end_time": "2024-11-16T21:56:41.022692",
     "exception": false,
     "start_time": "2024-11-16T21:56:40.996012",
     "status": "completed"
    },
    "tags": []
   },
   "outputs": [
    {
     "data": {
      "text/plain": [
       "0       1\n",
       "1       0\n",
       "2       1\n",
       "3       0\n",
       "4       0\n",
       "       ..\n",
       "9995    0\n",
       "9996    0\n",
       "9997    1\n",
       "9998    1\n",
       "9999    0\n",
       "Name: Exited, Length: 10000, dtype: int64"
      ]
     },
     "execution_count": 16,
     "metadata": {},
     "output_type": "execute_result"
    }
   ],
   "source": [
    "y"
   ]
  },
  {
   "cell_type": "code",
   "execution_count": 17,
   "id": "3e4c6d09",
   "metadata": {
    "execution": {
     "iopub.execute_input": "2024-11-16T21:56:41.052540Z",
     "iopub.status.busy": "2024-11-16T21:56:41.051734Z",
     "iopub.status.idle": "2024-11-16T21:56:41.058145Z",
     "shell.execute_reply": "2024-11-16T21:56:41.056756Z"
    },
    "papermill": {
     "duration": 0.024031,
     "end_time": "2024-11-16T21:56:41.060659",
     "exception": false,
     "start_time": "2024-11-16T21:56:41.036628",
     "status": "completed"
    },
    "tags": []
   },
   "outputs": [
    {
     "name": "stdout",
     "output_type": "stream",
     "text": [
      "(8000, 11)\n",
      "(8000,)\n"
     ]
    }
   ],
   "source": [
    "print(X_train.shape)\n",
    "print(y_train.shape)"
   ]
  },
  {
   "cell_type": "code",
   "execution_count": 18,
   "id": "df600493",
   "metadata": {
    "execution": {
     "iopub.execute_input": "2024-11-16T21:56:41.090925Z",
     "iopub.status.busy": "2024-11-16T21:56:41.089879Z",
     "iopub.status.idle": "2024-11-16T21:56:41.106148Z",
     "shell.execute_reply": "2024-11-16T21:56:41.105023Z"
    },
    "papermill": {
     "duration": 0.034423,
     "end_time": "2024-11-16T21:56:41.109046",
     "exception": false,
     "start_time": "2024-11-16T21:56:41.074623",
     "status": "completed"
    },
    "tags": []
   },
   "outputs": [],
   "source": [
    "# Scaling\n",
    "\n",
    "from sklearn.preprocessing import StandardScaler\n",
    "sc = StandardScaler()\n",
    "\n",
    "X_train_scaled = sc.fit_transform(X_train)\n",
    "X_test_scaled = sc.transform(X_test)\n"
   ]
  },
  {
   "cell_type": "code",
   "execution_count": 19,
   "id": "c1f48978",
   "metadata": {
    "execution": {
     "iopub.execute_input": "2024-11-16T21:56:41.139214Z",
     "iopub.status.busy": "2024-11-16T21:56:41.138439Z",
     "iopub.status.idle": "2024-11-16T21:56:41.146855Z",
     "shell.execute_reply": "2024-11-16T21:56:41.145728Z"
    },
    "papermill": {
     "duration": 0.026704,
     "end_time": "2024-11-16T21:56:41.149726",
     "exception": false,
     "start_time": "2024-11-16T21:56:41.123022",
     "status": "completed"
    },
    "tags": []
   },
   "outputs": [
    {
     "data": {
      "text/plain": [
       "array([[-0.23082038, -0.94449979, -0.70174202, ...,  1.71490137,\n",
       "        -0.57273139,  0.91509065],\n",
       "       [-0.25150912, -0.94449979, -0.35520275, ..., -0.58312392,\n",
       "        -0.57273139, -1.09278791],\n",
       "       [-0.3963303 ,  0.77498705,  0.33787579, ...,  1.71490137,\n",
       "        -0.57273139, -1.09278791],\n",
       "       ...,\n",
       "       [ 0.22433188,  0.58393295,  1.3774936 , ..., -0.58312392,\n",
       "        -0.57273139, -1.09278791],\n",
       "       [ 0.13123255,  0.01077067,  1.03095433, ..., -0.58312392,\n",
       "        -0.57273139, -1.09278791],\n",
       "       [ 1.1656695 ,  0.29735181,  0.33787579, ...,  1.71490137,\n",
       "        -0.57273139,  0.91509065]])"
      ]
     },
     "execution_count": 19,
     "metadata": {},
     "output_type": "execute_result"
    }
   ],
   "source": [
    "X_train_scaled"
   ]
  },
  {
   "cell_type": "code",
   "execution_count": 20,
   "id": "469260df",
   "metadata": {
    "execution": {
     "iopub.execute_input": "2024-11-16T21:56:41.180137Z",
     "iopub.status.busy": "2024-11-16T21:56:41.179662Z",
     "iopub.status.idle": "2024-11-16T21:56:57.058035Z",
     "shell.execute_reply": "2024-11-16T21:56:57.056100Z"
    },
    "papermill": {
     "duration": 15.897145,
     "end_time": "2024-11-16T21:56:57.061493",
     "exception": false,
     "start_time": "2024-11-16T21:56:41.164348",
     "status": "completed"
    },
    "tags": []
   },
   "outputs": [],
   "source": [
    "import tensorflow\n",
    "from tensorflow import keras\n",
    "from tensorflow.keras import Sequential\n",
    "from tensorflow.keras.layers import Dense"
   ]
  },
  {
   "cell_type": "code",
   "execution_count": 21,
   "id": "c47fced7",
   "metadata": {
    "execution": {
     "iopub.execute_input": "2024-11-16T21:56:57.113025Z",
     "iopub.status.busy": "2024-11-16T21:56:57.111979Z",
     "iopub.status.idle": "2024-11-16T21:56:57.213268Z",
     "shell.execute_reply": "2024-11-16T21:56:57.212122Z"
    },
    "papermill": {
     "duration": 0.129455,
     "end_time": "2024-11-16T21:56:57.216125",
     "exception": false,
     "start_time": "2024-11-16T21:56:57.086670",
     "status": "completed"
    },
    "tags": []
   },
   "outputs": [
    {
     "name": "stderr",
     "output_type": "stream",
     "text": [
      "/opt/conda/lib/python3.10/site-packages/keras/src/layers/core/dense.py:87: UserWarning: Do not pass an `input_shape`/`input_dim` argument to a layer. When using Sequential models, prefer using an `Input(shape)` object as the first layer in the model instead.\n",
      "  super().__init__(activity_regularizer=activity_regularizer, **kwargs)\n"
     ]
    }
   ],
   "source": [
    "model = Sequential()\n",
    "\n",
    "model.add(Dense(11,activation='relu',input_dim=11))\n",
    "model.add(Dense(11,activation='relu'))\n",
    "model.add(Dense(1,activation='sigmoid'))"
   ]
  },
  {
   "cell_type": "code",
   "execution_count": 22,
   "id": "8475ea7c",
   "metadata": {
    "execution": {
     "iopub.execute_input": "2024-11-16T21:56:57.246588Z",
     "iopub.status.busy": "2024-11-16T21:56:57.246110Z",
     "iopub.status.idle": "2024-11-16T21:56:57.269323Z",
     "shell.execute_reply": "2024-11-16T21:56:57.268179Z"
    },
    "papermill": {
     "duration": 0.04128,
     "end_time": "2024-11-16T21:56:57.271785",
     "exception": false,
     "start_time": "2024-11-16T21:56:57.230505",
     "status": "completed"
    },
    "tags": []
   },
   "outputs": [
    {
     "data": {
      "text/html": [
       "<pre style=\"white-space:pre;overflow-x:auto;line-height:normal;font-family:Menlo,'DejaVu Sans Mono',consolas,'Courier New',monospace\"><span style=\"font-weight: bold\">Model: \"sequential\"</span>\n",
       "</pre>\n"
      ],
      "text/plain": [
       "\u001b[1mModel: \"sequential\"\u001b[0m\n"
      ]
     },
     "metadata": {},
     "output_type": "display_data"
    },
    {
     "data": {
      "text/html": [
       "<pre style=\"white-space:pre;overflow-x:auto;line-height:normal;font-family:Menlo,'DejaVu Sans Mono',consolas,'Courier New',monospace\">┏━━━━━━━━━━━━━━━━━━━━━━━━━━━━━━━━━┳━━━━━━━━━━━━━━━━━━━━━━━━┳━━━━━━━━━━━━━━━┓\n",
       "┃<span style=\"font-weight: bold\"> Layer (type)                    </span>┃<span style=\"font-weight: bold\"> Output Shape           </span>┃<span style=\"font-weight: bold\">       Param # </span>┃\n",
       "┡━━━━━━━━━━━━━━━━━━━━━━━━━━━━━━━━━╇━━━━━━━━━━━━━━━━━━━━━━━━╇━━━━━━━━━━━━━━━┩\n",
       "│ dense (<span style=\"color: #0087ff; text-decoration-color: #0087ff\">Dense</span>)                   │ (<span style=\"color: #00d7ff; text-decoration-color: #00d7ff\">None</span>, <span style=\"color: #00af00; text-decoration-color: #00af00\">11</span>)             │           <span style=\"color: #00af00; text-decoration-color: #00af00\">132</span> │\n",
       "├─────────────────────────────────┼────────────────────────┼───────────────┤\n",
       "│ dense_1 (<span style=\"color: #0087ff; text-decoration-color: #0087ff\">Dense</span>)                 │ (<span style=\"color: #00d7ff; text-decoration-color: #00d7ff\">None</span>, <span style=\"color: #00af00; text-decoration-color: #00af00\">11</span>)             │           <span style=\"color: #00af00; text-decoration-color: #00af00\">132</span> │\n",
       "├─────────────────────────────────┼────────────────────────┼───────────────┤\n",
       "│ dense_2 (<span style=\"color: #0087ff; text-decoration-color: #0087ff\">Dense</span>)                 │ (<span style=\"color: #00d7ff; text-decoration-color: #00d7ff\">None</span>, <span style=\"color: #00af00; text-decoration-color: #00af00\">1</span>)              │            <span style=\"color: #00af00; text-decoration-color: #00af00\">12</span> │\n",
       "└─────────────────────────────────┴────────────────────────┴───────────────┘\n",
       "</pre>\n"
      ],
      "text/plain": [
       "┏━━━━━━━━━━━━━━━━━━━━━━━━━━━━━━━━━┳━━━━━━━━━━━━━━━━━━━━━━━━┳━━━━━━━━━━━━━━━┓\n",
       "┃\u001b[1m \u001b[0m\u001b[1mLayer (type)                   \u001b[0m\u001b[1m \u001b[0m┃\u001b[1m \u001b[0m\u001b[1mOutput Shape          \u001b[0m\u001b[1m \u001b[0m┃\u001b[1m \u001b[0m\u001b[1m      Param #\u001b[0m\u001b[1m \u001b[0m┃\n",
       "┡━━━━━━━━━━━━━━━━━━━━━━━━━━━━━━━━━╇━━━━━━━━━━━━━━━━━━━━━━━━╇━━━━━━━━━━━━━━━┩\n",
       "│ dense (\u001b[38;5;33mDense\u001b[0m)                   │ (\u001b[38;5;45mNone\u001b[0m, \u001b[38;5;34m11\u001b[0m)             │           \u001b[38;5;34m132\u001b[0m │\n",
       "├─────────────────────────────────┼────────────────────────┼───────────────┤\n",
       "│ dense_1 (\u001b[38;5;33mDense\u001b[0m)                 │ (\u001b[38;5;45mNone\u001b[0m, \u001b[38;5;34m11\u001b[0m)             │           \u001b[38;5;34m132\u001b[0m │\n",
       "├─────────────────────────────────┼────────────────────────┼───────────────┤\n",
       "│ dense_2 (\u001b[38;5;33mDense\u001b[0m)                 │ (\u001b[38;5;45mNone\u001b[0m, \u001b[38;5;34m1\u001b[0m)              │            \u001b[38;5;34m12\u001b[0m │\n",
       "└─────────────────────────────────┴────────────────────────┴───────────────┘\n"
      ]
     },
     "metadata": {},
     "output_type": "display_data"
    },
    {
     "data": {
      "text/html": [
       "<pre style=\"white-space:pre;overflow-x:auto;line-height:normal;font-family:Menlo,'DejaVu Sans Mono',consolas,'Courier New',monospace\"><span style=\"font-weight: bold\"> Total params: </span><span style=\"color: #00af00; text-decoration-color: #00af00\">276</span> (1.08 KB)\n",
       "</pre>\n"
      ],
      "text/plain": [
       "\u001b[1m Total params: \u001b[0m\u001b[38;5;34m276\u001b[0m (1.08 KB)\n"
      ]
     },
     "metadata": {},
     "output_type": "display_data"
    },
    {
     "data": {
      "text/html": [
       "<pre style=\"white-space:pre;overflow-x:auto;line-height:normal;font-family:Menlo,'DejaVu Sans Mono',consolas,'Courier New',monospace\"><span style=\"font-weight: bold\"> Trainable params: </span><span style=\"color: #00af00; text-decoration-color: #00af00\">276</span> (1.08 KB)\n",
       "</pre>\n"
      ],
      "text/plain": [
       "\u001b[1m Trainable params: \u001b[0m\u001b[38;5;34m276\u001b[0m (1.08 KB)\n"
      ]
     },
     "metadata": {},
     "output_type": "display_data"
    },
    {
     "data": {
      "text/html": [
       "<pre style=\"white-space:pre;overflow-x:auto;line-height:normal;font-family:Menlo,'DejaVu Sans Mono',consolas,'Courier New',monospace\"><span style=\"font-weight: bold\"> Non-trainable params: </span><span style=\"color: #00af00; text-decoration-color: #00af00\">0</span> (0.00 B)\n",
       "</pre>\n"
      ],
      "text/plain": [
       "\u001b[1m Non-trainable params: \u001b[0m\u001b[38;5;34m0\u001b[0m (0.00 B)\n"
      ]
     },
     "metadata": {},
     "output_type": "display_data"
    }
   ],
   "source": [
    "model.summary()"
   ]
  },
  {
   "cell_type": "code",
   "execution_count": 23,
   "id": "d742faf0",
   "metadata": {
    "execution": {
     "iopub.execute_input": "2024-11-16T21:56:57.304225Z",
     "iopub.status.busy": "2024-11-16T21:56:57.303292Z",
     "iopub.status.idle": "2024-11-16T21:56:57.319803Z",
     "shell.execute_reply": "2024-11-16T21:56:57.318588Z"
    },
    "papermill": {
     "duration": 0.035859,
     "end_time": "2024-11-16T21:56:57.322739",
     "exception": false,
     "start_time": "2024-11-16T21:56:57.286880",
     "status": "completed"
    },
    "tags": []
   },
   "outputs": [],
   "source": [
    "model.compile(loss='binary_crossentropy',optimizer='Adam',metrics=['accuracy'])"
   ]
  },
  {
   "cell_type": "code",
   "execution_count": 24,
   "id": "8abad925",
   "metadata": {
    "execution": {
     "iopub.execute_input": "2024-11-16T21:56:57.356195Z",
     "iopub.status.busy": "2024-11-16T21:56:57.355368Z",
     "iopub.status.idle": "2024-11-16T21:57:39.540481Z",
     "shell.execute_reply": "2024-11-16T21:57:39.539438Z"
    },
    "papermill": {
     "duration": 42.205292,
     "end_time": "2024-11-16T21:57:39.543470",
     "exception": false,
     "start_time": "2024-11-16T21:56:57.338178",
     "status": "completed"
    },
    "tags": []
   },
   "outputs": [
    {
     "name": "stdout",
     "output_type": "stream",
     "text": [
      "Epoch 1/100\n",
      "\u001b[1m200/200\u001b[0m \u001b[32m━━━━━━━━━━━━━━━━━━━━\u001b[0m\u001b[37m\u001b[0m \u001b[1m2s\u001b[0m 3ms/step - accuracy: 0.6997 - loss: 0.6095 - val_accuracy: 0.8037 - val_loss: 0.4660\n",
      "Epoch 2/100\n",
      "\u001b[1m200/200\u001b[0m \u001b[32m━━━━━━━━━━━━━━━━━━━━\u001b[0m\u001b[37m\u001b[0m \u001b[1m0s\u001b[0m 2ms/step - accuracy: 0.8176 - loss: 0.4279 - val_accuracy: 0.8150 - val_loss: 0.4245\n",
      "Epoch 3/100\n",
      "\u001b[1m200/200\u001b[0m \u001b[32m━━━━━━━━━━━━━━━━━━━━\u001b[0m\u001b[37m\u001b[0m \u001b[1m0s\u001b[0m 2ms/step - accuracy: 0.8337 - loss: 0.4099 - val_accuracy: 0.8306 - val_loss: 0.4052\n",
      "Epoch 4/100\n",
      "\u001b[1m200/200\u001b[0m \u001b[32m━━━━━━━━━━━━━━━━━━━━\u001b[0m\u001b[37m\u001b[0m \u001b[1m0s\u001b[0m 2ms/step - accuracy: 0.8470 - loss: 0.3909 - val_accuracy: 0.8325 - val_loss: 0.3895\n",
      "Epoch 5/100\n",
      "\u001b[1m200/200\u001b[0m \u001b[32m━━━━━━━━━━━━━━━━━━━━\u001b[0m\u001b[37m\u001b[0m \u001b[1m0s\u001b[0m 2ms/step - accuracy: 0.8389 - loss: 0.3860 - val_accuracy: 0.8400 - val_loss: 0.3797\n",
      "Epoch 6/100\n",
      "\u001b[1m200/200\u001b[0m \u001b[32m━━━━━━━━━━━━━━━━━━━━\u001b[0m\u001b[37m\u001b[0m \u001b[1m0s\u001b[0m 2ms/step - accuracy: 0.8508 - loss: 0.3766 - val_accuracy: 0.8469 - val_loss: 0.3687\n",
      "Epoch 7/100\n",
      "\u001b[1m200/200\u001b[0m \u001b[32m━━━━━━━━━━━━━━━━━━━━\u001b[0m\u001b[37m\u001b[0m \u001b[1m0s\u001b[0m 2ms/step - accuracy: 0.8591 - loss: 0.3629 - val_accuracy: 0.8487 - val_loss: 0.3604\n",
      "Epoch 8/100\n",
      "\u001b[1m200/200\u001b[0m \u001b[32m━━━━━━━━━━━━━━━━━━━━\u001b[0m\u001b[37m\u001b[0m \u001b[1m0s\u001b[0m 2ms/step - accuracy: 0.8559 - loss: 0.3656 - val_accuracy: 0.8487 - val_loss: 0.3555\n",
      "Epoch 9/100\n",
      "\u001b[1m200/200\u001b[0m \u001b[32m━━━━━━━━━━━━━━━━━━━━\u001b[0m\u001b[37m\u001b[0m \u001b[1m0s\u001b[0m 2ms/step - accuracy: 0.8501 - loss: 0.3700 - val_accuracy: 0.8500 - val_loss: 0.3524\n",
      "Epoch 10/100\n",
      "\u001b[1m200/200\u001b[0m \u001b[32m━━━━━━━━━━━━━━━━━━━━\u001b[0m\u001b[37m\u001b[0m \u001b[1m0s\u001b[0m 2ms/step - accuracy: 0.8666 - loss: 0.3427 - val_accuracy: 0.8519 - val_loss: 0.3512\n",
      "Epoch 11/100\n",
      "\u001b[1m200/200\u001b[0m \u001b[32m━━━━━━━━━━━━━━━━━━━━\u001b[0m\u001b[37m\u001b[0m \u001b[1m0s\u001b[0m 2ms/step - accuracy: 0.8641 - loss: 0.3340 - val_accuracy: 0.8512 - val_loss: 0.3479\n",
      "Epoch 12/100\n",
      "\u001b[1m200/200\u001b[0m \u001b[32m━━━━━━━━━━━━━━━━━━━━\u001b[0m\u001b[37m\u001b[0m \u001b[1m0s\u001b[0m 2ms/step - accuracy: 0.8647 - loss: 0.3403 - val_accuracy: 0.8519 - val_loss: 0.3478\n",
      "Epoch 13/100\n",
      "\u001b[1m200/200\u001b[0m \u001b[32m━━━━━━━━━━━━━━━━━━━━\u001b[0m\u001b[37m\u001b[0m \u001b[1m0s\u001b[0m 2ms/step - accuracy: 0.8583 - loss: 0.3463 - val_accuracy: 0.8575 - val_loss: 0.3453\n",
      "Epoch 14/100\n",
      "\u001b[1m200/200\u001b[0m \u001b[32m━━━━━━━━━━━━━━━━━━━━\u001b[0m\u001b[37m\u001b[0m \u001b[1m0s\u001b[0m 2ms/step - accuracy: 0.8662 - loss: 0.3369 - val_accuracy: 0.8575 - val_loss: 0.3472\n",
      "Epoch 15/100\n",
      "\u001b[1m200/200\u001b[0m \u001b[32m━━━━━━━━━━━━━━━━━━━━\u001b[0m\u001b[37m\u001b[0m \u001b[1m0s\u001b[0m 2ms/step - accuracy: 0.8623 - loss: 0.3385 - val_accuracy: 0.8562 - val_loss: 0.3466\n",
      "Epoch 16/100\n",
      "\u001b[1m200/200\u001b[0m \u001b[32m━━━━━━━━━━━━━━━━━━━━\u001b[0m\u001b[37m\u001b[0m \u001b[1m0s\u001b[0m 2ms/step - accuracy: 0.8701 - loss: 0.3314 - val_accuracy: 0.8575 - val_loss: 0.3444\n",
      "Epoch 17/100\n",
      "\u001b[1m200/200\u001b[0m \u001b[32m━━━━━━━━━━━━━━━━━━━━\u001b[0m\u001b[37m\u001b[0m \u001b[1m0s\u001b[0m 2ms/step - accuracy: 0.8661 - loss: 0.3294 - val_accuracy: 0.8594 - val_loss: 0.3451\n",
      "Epoch 18/100\n",
      "\u001b[1m200/200\u001b[0m \u001b[32m━━━━━━━━━━━━━━━━━━━━\u001b[0m\u001b[37m\u001b[0m \u001b[1m0s\u001b[0m 2ms/step - accuracy: 0.8582 - loss: 0.3448 - val_accuracy: 0.8556 - val_loss: 0.3448\n",
      "Epoch 19/100\n",
      "\u001b[1m200/200\u001b[0m \u001b[32m━━━━━━━━━━━━━━━━━━━━\u001b[0m\u001b[37m\u001b[0m \u001b[1m0s\u001b[0m 2ms/step - accuracy: 0.8635 - loss: 0.3379 - val_accuracy: 0.8575 - val_loss: 0.3445\n",
      "Epoch 20/100\n",
      "\u001b[1m200/200\u001b[0m \u001b[32m━━━━━━━━━━━━━━━━━━━━\u001b[0m\u001b[37m\u001b[0m \u001b[1m0s\u001b[0m 2ms/step - accuracy: 0.8674 - loss: 0.3241 - val_accuracy: 0.8594 - val_loss: 0.3430\n",
      "Epoch 21/100\n",
      "\u001b[1m200/200\u001b[0m \u001b[32m━━━━━━━━━━━━━━━━━━━━\u001b[0m\u001b[37m\u001b[0m \u001b[1m0s\u001b[0m 2ms/step - accuracy: 0.8714 - loss: 0.3230 - val_accuracy: 0.8550 - val_loss: 0.3442\n",
      "Epoch 22/100\n",
      "\u001b[1m200/200\u001b[0m \u001b[32m━━━━━━━━━━━━━━━━━━━━\u001b[0m\u001b[37m\u001b[0m \u001b[1m0s\u001b[0m 2ms/step - accuracy: 0.8662 - loss: 0.3338 - val_accuracy: 0.8556 - val_loss: 0.3444\n",
      "Epoch 23/100\n",
      "\u001b[1m200/200\u001b[0m \u001b[32m━━━━━━━━━━━━━━━━━━━━\u001b[0m\u001b[37m\u001b[0m \u001b[1m0s\u001b[0m 2ms/step - accuracy: 0.8675 - loss: 0.3307 - val_accuracy: 0.8575 - val_loss: 0.3442\n",
      "Epoch 24/100\n",
      "\u001b[1m200/200\u001b[0m \u001b[32m━━━━━━━━━━━━━━━━━━━━\u001b[0m\u001b[37m\u001b[0m \u001b[1m0s\u001b[0m 2ms/step - accuracy: 0.8712 - loss: 0.3245 - val_accuracy: 0.8575 - val_loss: 0.3457\n",
      "Epoch 25/100\n",
      "\u001b[1m200/200\u001b[0m \u001b[32m━━━━━━━━━━━━━━━━━━━━\u001b[0m\u001b[37m\u001b[0m \u001b[1m0s\u001b[0m 2ms/step - accuracy: 0.8674 - loss: 0.3325 - val_accuracy: 0.8587 - val_loss: 0.3434\n",
      "Epoch 26/100\n",
      "\u001b[1m200/200\u001b[0m \u001b[32m━━━━━━━━━━━━━━━━━━━━\u001b[0m\u001b[37m\u001b[0m \u001b[1m0s\u001b[0m 2ms/step - accuracy: 0.8643 - loss: 0.3323 - val_accuracy: 0.8556 - val_loss: 0.3446\n",
      "Epoch 27/100\n",
      "\u001b[1m200/200\u001b[0m \u001b[32m━━━━━━━━━━━━━━━━━━━━\u001b[0m\u001b[37m\u001b[0m \u001b[1m0s\u001b[0m 2ms/step - accuracy: 0.8676 - loss: 0.3273 - val_accuracy: 0.8556 - val_loss: 0.3440\n",
      "Epoch 28/100\n",
      "\u001b[1m200/200\u001b[0m \u001b[32m━━━━━━━━━━━━━━━━━━━━\u001b[0m\u001b[37m\u001b[0m \u001b[1m0s\u001b[0m 2ms/step - accuracy: 0.8651 - loss: 0.3283 - val_accuracy: 0.8525 - val_loss: 0.3448\n",
      "Epoch 29/100\n",
      "\u001b[1m200/200\u001b[0m \u001b[32m━━━━━━━━━━━━━━━━━━━━\u001b[0m\u001b[37m\u001b[0m \u001b[1m0s\u001b[0m 2ms/step - accuracy: 0.8589 - loss: 0.3375 - val_accuracy: 0.8556 - val_loss: 0.3446\n",
      "Epoch 30/100\n",
      "\u001b[1m200/200\u001b[0m \u001b[32m━━━━━━━━━━━━━━━━━━━━\u001b[0m\u001b[37m\u001b[0m \u001b[1m0s\u001b[0m 2ms/step - accuracy: 0.8650 - loss: 0.3253 - val_accuracy: 0.8531 - val_loss: 0.3440\n",
      "Epoch 31/100\n",
      "\u001b[1m200/200\u001b[0m \u001b[32m━━━━━━━━━━━━━━━━━━━━\u001b[0m\u001b[37m\u001b[0m \u001b[1m0s\u001b[0m 2ms/step - accuracy: 0.8726 - loss: 0.3171 - val_accuracy: 0.8562 - val_loss: 0.3447\n",
      "Epoch 32/100\n",
      "\u001b[1m200/200\u001b[0m \u001b[32m━━━━━━━━━━━━━━━━━━━━\u001b[0m\u001b[37m\u001b[0m \u001b[1m0s\u001b[0m 2ms/step - accuracy: 0.8610 - loss: 0.3297 - val_accuracy: 0.8575 - val_loss: 0.3440\n",
      "Epoch 33/100\n",
      "\u001b[1m200/200\u001b[0m \u001b[32m━━━━━━━━━━━━━━━━━━━━\u001b[0m\u001b[37m\u001b[0m \u001b[1m0s\u001b[0m 2ms/step - accuracy: 0.8708 - loss: 0.3268 - val_accuracy: 0.8556 - val_loss: 0.3461\n",
      "Epoch 34/100\n",
      "\u001b[1m200/200\u001b[0m \u001b[32m━━━━━━━━━━━━━━━━━━━━\u001b[0m\u001b[37m\u001b[0m \u001b[1m0s\u001b[0m 2ms/step - accuracy: 0.8698 - loss: 0.3273 - val_accuracy: 0.8556 - val_loss: 0.3446\n",
      "Epoch 35/100\n",
      "\u001b[1m200/200\u001b[0m \u001b[32m━━━━━━━━━━━━━━━━━━━━\u001b[0m\u001b[37m\u001b[0m \u001b[1m0s\u001b[0m 2ms/step - accuracy: 0.8687 - loss: 0.3237 - val_accuracy: 0.8581 - val_loss: 0.3441\n",
      "Epoch 36/100\n",
      "\u001b[1m200/200\u001b[0m \u001b[32m━━━━━━━━━━━━━━━━━━━━\u001b[0m\u001b[37m\u001b[0m \u001b[1m0s\u001b[0m 2ms/step - accuracy: 0.8623 - loss: 0.3297 - val_accuracy: 0.8562 - val_loss: 0.3452\n",
      "Epoch 37/100\n",
      "\u001b[1m200/200\u001b[0m \u001b[32m━━━━━━━━━━━━━━━━━━━━\u001b[0m\u001b[37m\u001b[0m \u001b[1m0s\u001b[0m 2ms/step - accuracy: 0.8707 - loss: 0.3204 - val_accuracy: 0.8550 - val_loss: 0.3464\n",
      "Epoch 38/100\n",
      "\u001b[1m200/200\u001b[0m \u001b[32m━━━━━━━━━━━━━━━━━━━━\u001b[0m\u001b[37m\u001b[0m \u001b[1m0s\u001b[0m 2ms/step - accuracy: 0.8707 - loss: 0.3175 - val_accuracy: 0.8556 - val_loss: 0.3451\n",
      "Epoch 39/100\n",
      "\u001b[1m200/200\u001b[0m \u001b[32m━━━━━━━━━━━━━━━━━━━━\u001b[0m\u001b[37m\u001b[0m \u001b[1m0s\u001b[0m 2ms/step - accuracy: 0.8624 - loss: 0.3359 - val_accuracy: 0.8556 - val_loss: 0.3453\n",
      "Epoch 40/100\n",
      "\u001b[1m200/200\u001b[0m \u001b[32m━━━━━━━━━━━━━━━━━━━━\u001b[0m\u001b[37m\u001b[0m \u001b[1m0s\u001b[0m 2ms/step - accuracy: 0.8597 - loss: 0.3267 - val_accuracy: 0.8531 - val_loss: 0.3462\n",
      "Epoch 41/100\n",
      "\u001b[1m200/200\u001b[0m \u001b[32m━━━━━━━━━━━━━━━━━━━━\u001b[0m\u001b[37m\u001b[0m \u001b[1m0s\u001b[0m 2ms/step - accuracy: 0.8735 - loss: 0.3225 - val_accuracy: 0.8556 - val_loss: 0.3442\n",
      "Epoch 42/100\n",
      "\u001b[1m200/200\u001b[0m \u001b[32m━━━━━━━━━━━━━━━━━━━━\u001b[0m\u001b[37m\u001b[0m \u001b[1m0s\u001b[0m 2ms/step - accuracy: 0.8733 - loss: 0.3125 - val_accuracy: 0.8569 - val_loss: 0.3462\n",
      "Epoch 43/100\n",
      "\u001b[1m200/200\u001b[0m \u001b[32m━━━━━━━━━━━━━━━━━━━━\u001b[0m\u001b[37m\u001b[0m \u001b[1m1s\u001b[0m 2ms/step - accuracy: 0.8605 - loss: 0.3321 - val_accuracy: 0.8550 - val_loss: 0.3467\n",
      "Epoch 44/100\n",
      "\u001b[1m200/200\u001b[0m \u001b[32m━━━━━━━━━━━━━━━━━━━━\u001b[0m\u001b[37m\u001b[0m \u001b[1m0s\u001b[0m 2ms/step - accuracy: 0.8703 - loss: 0.3206 - val_accuracy: 0.8531 - val_loss: 0.3469\n",
      "Epoch 45/100\n",
      "\u001b[1m200/200\u001b[0m \u001b[32m━━━━━━━━━━━━━━━━━━━━\u001b[0m\u001b[37m\u001b[0m \u001b[1m0s\u001b[0m 2ms/step - accuracy: 0.8713 - loss: 0.3148 - val_accuracy: 0.8550 - val_loss: 0.3454\n",
      "Epoch 46/100\n",
      "\u001b[1m200/200\u001b[0m \u001b[32m━━━━━━━━━━━━━━━━━━━━\u001b[0m\u001b[37m\u001b[0m \u001b[1m0s\u001b[0m 2ms/step - accuracy: 0.8624 - loss: 0.3350 - val_accuracy: 0.8537 - val_loss: 0.3469\n",
      "Epoch 47/100\n",
      "\u001b[1m200/200\u001b[0m \u001b[32m━━━━━━━━━━━━━━━━━━━━\u001b[0m\u001b[37m\u001b[0m \u001b[1m0s\u001b[0m 2ms/step - accuracy: 0.8668 - loss: 0.3141 - val_accuracy: 0.8537 - val_loss: 0.3458\n",
      "Epoch 48/100\n",
      "\u001b[1m200/200\u001b[0m \u001b[32m━━━━━━━━━━━━━━━━━━━━\u001b[0m\u001b[37m\u001b[0m \u001b[1m0s\u001b[0m 2ms/step - accuracy: 0.8609 - loss: 0.3341 - val_accuracy: 0.8525 - val_loss: 0.3470\n",
      "Epoch 49/100\n",
      "\u001b[1m200/200\u001b[0m \u001b[32m━━━━━━━━━━━━━━━━━━━━\u001b[0m\u001b[37m\u001b[0m \u001b[1m0s\u001b[0m 2ms/step - accuracy: 0.8682 - loss: 0.3301 - val_accuracy: 0.8556 - val_loss: 0.3454\n",
      "Epoch 50/100\n",
      "\u001b[1m200/200\u001b[0m \u001b[32m━━━━━━━━━━━━━━━━━━━━\u001b[0m\u001b[37m\u001b[0m \u001b[1m0s\u001b[0m 2ms/step - accuracy: 0.8688 - loss: 0.3157 - val_accuracy: 0.8550 - val_loss: 0.3472\n",
      "Epoch 51/100\n",
      "\u001b[1m200/200\u001b[0m \u001b[32m━━━━━━━━━━━━━━━━━━━━\u001b[0m\u001b[37m\u001b[0m \u001b[1m0s\u001b[0m 2ms/step - accuracy: 0.8636 - loss: 0.3372 - val_accuracy: 0.8544 - val_loss: 0.3472\n",
      "Epoch 52/100\n",
      "\u001b[1m200/200\u001b[0m \u001b[32m━━━━━━━━━━━━━━━━━━━━\u001b[0m\u001b[37m\u001b[0m \u001b[1m0s\u001b[0m 2ms/step - accuracy: 0.8667 - loss: 0.3226 - val_accuracy: 0.8537 - val_loss: 0.3478\n",
      "Epoch 53/100\n",
      "\u001b[1m200/200\u001b[0m \u001b[32m━━━━━━━━━━━━━━━━━━━━\u001b[0m\u001b[37m\u001b[0m \u001b[1m0s\u001b[0m 2ms/step - accuracy: 0.8696 - loss: 0.3244 - val_accuracy: 0.8537 - val_loss: 0.3458\n",
      "Epoch 54/100\n",
      "\u001b[1m200/200\u001b[0m \u001b[32m━━━━━━━━━━━━━━━━━━━━\u001b[0m\u001b[37m\u001b[0m \u001b[1m0s\u001b[0m 2ms/step - accuracy: 0.8674 - loss: 0.3213 - val_accuracy: 0.8500 - val_loss: 0.3468\n",
      "Epoch 55/100\n",
      "\u001b[1m200/200\u001b[0m \u001b[32m━━━━━━━━━━━━━━━━━━━━\u001b[0m\u001b[37m\u001b[0m \u001b[1m0s\u001b[0m 2ms/step - accuracy: 0.8619 - loss: 0.3229 - val_accuracy: 0.8537 - val_loss: 0.3464\n",
      "Epoch 56/100\n",
      "\u001b[1m200/200\u001b[0m \u001b[32m━━━━━━━━━━━━━━━━━━━━\u001b[0m\u001b[37m\u001b[0m \u001b[1m0s\u001b[0m 2ms/step - accuracy: 0.8621 - loss: 0.3251 - val_accuracy: 0.8544 - val_loss: 0.3476\n",
      "Epoch 57/100\n",
      "\u001b[1m200/200\u001b[0m \u001b[32m━━━━━━━━━━━━━━━━━━━━\u001b[0m\u001b[37m\u001b[0m \u001b[1m0s\u001b[0m 2ms/step - accuracy: 0.8633 - loss: 0.3267 - val_accuracy: 0.8537 - val_loss: 0.3497\n",
      "Epoch 58/100\n",
      "\u001b[1m200/200\u001b[0m \u001b[32m━━━━━━━━━━━━━━━━━━━━\u001b[0m\u001b[37m\u001b[0m \u001b[1m0s\u001b[0m 2ms/step - accuracy: 0.8786 - loss: 0.3040 - val_accuracy: 0.8537 - val_loss: 0.3482\n",
      "Epoch 59/100\n",
      "\u001b[1m200/200\u001b[0m \u001b[32m━━━━━━━━━━━━━━━━━━━━\u001b[0m\u001b[37m\u001b[0m \u001b[1m0s\u001b[0m 2ms/step - accuracy: 0.8661 - loss: 0.3232 - val_accuracy: 0.8525 - val_loss: 0.3472\n",
      "Epoch 60/100\n",
      "\u001b[1m200/200\u001b[0m \u001b[32m━━━━━━━━━━━━━━━━━━━━\u001b[0m\u001b[37m\u001b[0m \u001b[1m0s\u001b[0m 2ms/step - accuracy: 0.8631 - loss: 0.3306 - val_accuracy: 0.8537 - val_loss: 0.3474\n",
      "Epoch 61/100\n",
      "\u001b[1m200/200\u001b[0m \u001b[32m━━━━━━━━━━━━━━━━━━━━\u001b[0m\u001b[37m\u001b[0m \u001b[1m0s\u001b[0m 2ms/step - accuracy: 0.8646 - loss: 0.3240 - val_accuracy: 0.8556 - val_loss: 0.3476\n",
      "Epoch 62/100\n",
      "\u001b[1m200/200\u001b[0m \u001b[32m━━━━━━━━━━━━━━━━━━━━\u001b[0m\u001b[37m\u001b[0m \u001b[1m0s\u001b[0m 2ms/step - accuracy: 0.8651 - loss: 0.3285 - val_accuracy: 0.8537 - val_loss: 0.3470\n",
      "Epoch 63/100\n",
      "\u001b[1m200/200\u001b[0m \u001b[32m━━━━━━━━━━━━━━━━━━━━\u001b[0m\u001b[37m\u001b[0m \u001b[1m0s\u001b[0m 2ms/step - accuracy: 0.8658 - loss: 0.3234 - val_accuracy: 0.8537 - val_loss: 0.3512\n",
      "Epoch 64/100\n",
      "\u001b[1m200/200\u001b[0m \u001b[32m━━━━━━━━━━━━━━━━━━━━\u001b[0m\u001b[37m\u001b[0m \u001b[1m0s\u001b[0m 2ms/step - accuracy: 0.8690 - loss: 0.3188 - val_accuracy: 0.8531 - val_loss: 0.3475\n",
      "Epoch 65/100\n",
      "\u001b[1m200/200\u001b[0m \u001b[32m━━━━━━━━━━━━━━━━━━━━\u001b[0m\u001b[37m\u001b[0m \u001b[1m0s\u001b[0m 2ms/step - accuracy: 0.8688 - loss: 0.3186 - val_accuracy: 0.8550 - val_loss: 0.3491\n",
      "Epoch 66/100\n",
      "\u001b[1m200/200\u001b[0m \u001b[32m━━━━━━━━━━━━━━━━━━━━\u001b[0m\u001b[37m\u001b[0m \u001b[1m0s\u001b[0m 2ms/step - accuracy: 0.8697 - loss: 0.3176 - val_accuracy: 0.8519 - val_loss: 0.3484\n",
      "Epoch 67/100\n",
      "\u001b[1m200/200\u001b[0m \u001b[32m━━━━━━━━━━━━━━━━━━━━\u001b[0m\u001b[37m\u001b[0m \u001b[1m0s\u001b[0m 2ms/step - accuracy: 0.8767 - loss: 0.3069 - val_accuracy: 0.8544 - val_loss: 0.3481\n",
      "Epoch 68/100\n",
      "\u001b[1m200/200\u001b[0m \u001b[32m━━━━━━━━━━━━━━━━━━━━\u001b[0m\u001b[37m\u001b[0m \u001b[1m0s\u001b[0m 2ms/step - accuracy: 0.8646 - loss: 0.3239 - val_accuracy: 0.8537 - val_loss: 0.3484\n",
      "Epoch 69/100\n",
      "\u001b[1m200/200\u001b[0m \u001b[32m━━━━━━━━━━━━━━━━━━━━\u001b[0m\u001b[37m\u001b[0m \u001b[1m0s\u001b[0m 2ms/step - accuracy: 0.8689 - loss: 0.3171 - val_accuracy: 0.8556 - val_loss: 0.3473\n",
      "Epoch 70/100\n",
      "\u001b[1m200/200\u001b[0m \u001b[32m━━━━━━━━━━━━━━━━━━━━\u001b[0m\u001b[37m\u001b[0m \u001b[1m0s\u001b[0m 2ms/step - accuracy: 0.8724 - loss: 0.3146 - val_accuracy: 0.8556 - val_loss: 0.3485\n",
      "Epoch 71/100\n",
      "\u001b[1m200/200\u001b[0m \u001b[32m━━━━━━━━━━━━━━━━━━━━\u001b[0m\u001b[37m\u001b[0m \u001b[1m0s\u001b[0m 2ms/step - accuracy: 0.8700 - loss: 0.3144 - val_accuracy: 0.8519 - val_loss: 0.3484\n",
      "Epoch 72/100\n",
      "\u001b[1m200/200\u001b[0m \u001b[32m━━━━━━━━━━━━━━━━━━━━\u001b[0m\u001b[37m\u001b[0m \u001b[1m0s\u001b[0m 2ms/step - accuracy: 0.8681 - loss: 0.3299 - val_accuracy: 0.8525 - val_loss: 0.3493\n",
      "Epoch 73/100\n",
      "\u001b[1m200/200\u001b[0m \u001b[32m━━━━━━━━━━━━━━━━━━━━\u001b[0m\u001b[37m\u001b[0m \u001b[1m0s\u001b[0m 2ms/step - accuracy: 0.8647 - loss: 0.3207 - val_accuracy: 0.8525 - val_loss: 0.3493\n",
      "Epoch 74/100\n",
      "\u001b[1m200/200\u001b[0m \u001b[32m━━━━━━━━━━━━━━━━━━━━\u001b[0m\u001b[37m\u001b[0m \u001b[1m0s\u001b[0m 2ms/step - accuracy: 0.8727 - loss: 0.3195 - val_accuracy: 0.8519 - val_loss: 0.3517\n",
      "Epoch 75/100\n",
      "\u001b[1m200/200\u001b[0m \u001b[32m━━━━━━━━━━━━━━━━━━━━\u001b[0m\u001b[37m\u001b[0m \u001b[1m0s\u001b[0m 2ms/step - accuracy: 0.8646 - loss: 0.3335 - val_accuracy: 0.8544 - val_loss: 0.3495\n",
      "Epoch 76/100\n",
      "\u001b[1m200/200\u001b[0m \u001b[32m━━━━━━━━━━━━━━━━━━━━\u001b[0m\u001b[37m\u001b[0m \u001b[1m0s\u001b[0m 2ms/step - accuracy: 0.8639 - loss: 0.3188 - val_accuracy: 0.8544 - val_loss: 0.3488\n",
      "Epoch 77/100\n",
      "\u001b[1m200/200\u001b[0m \u001b[32m━━━━━━━━━━━━━━━━━━━━\u001b[0m\u001b[37m\u001b[0m \u001b[1m0s\u001b[0m 2ms/step - accuracy: 0.8699 - loss: 0.3170 - val_accuracy: 0.8525 - val_loss: 0.3499\n",
      "Epoch 78/100\n",
      "\u001b[1m200/200\u001b[0m \u001b[32m━━━━━━━━━━━━━━━━━━━━\u001b[0m\u001b[37m\u001b[0m \u001b[1m0s\u001b[0m 2ms/step - accuracy: 0.8700 - loss: 0.3116 - val_accuracy: 0.8544 - val_loss: 0.3522\n",
      "Epoch 79/100\n",
      "\u001b[1m200/200\u001b[0m \u001b[32m━━━━━━━━━━━━━━━━━━━━\u001b[0m\u001b[37m\u001b[0m \u001b[1m0s\u001b[0m 2ms/step - accuracy: 0.8710 - loss: 0.3188 - val_accuracy: 0.8537 - val_loss: 0.3496\n",
      "Epoch 80/100\n",
      "\u001b[1m200/200\u001b[0m \u001b[32m━━━━━━━━━━━━━━━━━━━━\u001b[0m\u001b[37m\u001b[0m \u001b[1m0s\u001b[0m 2ms/step - accuracy: 0.8723 - loss: 0.3175 - val_accuracy: 0.8550 - val_loss: 0.3496\n",
      "Epoch 81/100\n",
      "\u001b[1m200/200\u001b[0m \u001b[32m━━━━━━━━━━━━━━━━━━━━\u001b[0m\u001b[37m\u001b[0m \u001b[1m0s\u001b[0m 2ms/step - accuracy: 0.8674 - loss: 0.3128 - val_accuracy: 0.8556 - val_loss: 0.3506\n",
      "Epoch 82/100\n",
      "\u001b[1m200/200\u001b[0m \u001b[32m━━━━━━━━━━━━━━━━━━━━\u001b[0m\u001b[37m\u001b[0m \u001b[1m0s\u001b[0m 2ms/step - accuracy: 0.8709 - loss: 0.3172 - val_accuracy: 0.8550 - val_loss: 0.3503\n",
      "Epoch 83/100\n",
      "\u001b[1m200/200\u001b[0m \u001b[32m━━━━━━━━━━━━━━━━━━━━\u001b[0m\u001b[37m\u001b[0m \u001b[1m0s\u001b[0m 2ms/step - accuracy: 0.8674 - loss: 0.3269 - val_accuracy: 0.8556 - val_loss: 0.3499\n",
      "Epoch 84/100\n",
      "\u001b[1m200/200\u001b[0m \u001b[32m━━━━━━━━━━━━━━━━━━━━\u001b[0m\u001b[37m\u001b[0m \u001b[1m0s\u001b[0m 2ms/step - accuracy: 0.8740 - loss: 0.3139 - val_accuracy: 0.8550 - val_loss: 0.3509\n",
      "Epoch 85/100\n",
      "\u001b[1m200/200\u001b[0m \u001b[32m━━━━━━━━━━━━━━━━━━━━\u001b[0m\u001b[37m\u001b[0m \u001b[1m0s\u001b[0m 2ms/step - accuracy: 0.8652 - loss: 0.3277 - val_accuracy: 0.8525 - val_loss: 0.3507\n",
      "Epoch 86/100\n",
      "\u001b[1m200/200\u001b[0m \u001b[32m━━━━━━━━━━━━━━━━━━━━\u001b[0m\u001b[37m\u001b[0m \u001b[1m0s\u001b[0m 2ms/step - accuracy: 0.8698 - loss: 0.3152 - val_accuracy: 0.8544 - val_loss: 0.3496\n",
      "Epoch 87/100\n",
      "\u001b[1m200/200\u001b[0m \u001b[32m━━━━━━━━━━━━━━━━━━━━\u001b[0m\u001b[37m\u001b[0m \u001b[1m0s\u001b[0m 2ms/step - accuracy: 0.8637 - loss: 0.3321 - val_accuracy: 0.8544 - val_loss: 0.3508\n",
      "Epoch 88/100\n",
      "\u001b[1m200/200\u001b[0m \u001b[32m━━━━━━━━━━━━━━━━━━━━\u001b[0m\u001b[37m\u001b[0m \u001b[1m0s\u001b[0m 2ms/step - accuracy: 0.8634 - loss: 0.3319 - val_accuracy: 0.8550 - val_loss: 0.3523\n",
      "Epoch 89/100\n",
      "\u001b[1m200/200\u001b[0m \u001b[32m━━━━━━━━━━━━━━━━━━━━\u001b[0m\u001b[37m\u001b[0m \u001b[1m0s\u001b[0m 2ms/step - accuracy: 0.8715 - loss: 0.3226 - val_accuracy: 0.8550 - val_loss: 0.3499\n",
      "Epoch 90/100\n",
      "\u001b[1m200/200\u001b[0m \u001b[32m━━━━━━━━━━━━━━━━━━━━\u001b[0m\u001b[37m\u001b[0m \u001b[1m0s\u001b[0m 2ms/step - accuracy: 0.8745 - loss: 0.3133 - val_accuracy: 0.8544 - val_loss: 0.3505\n",
      "Epoch 91/100\n",
      "\u001b[1m200/200\u001b[0m \u001b[32m━━━━━━━━━━━━━━━━━━━━\u001b[0m\u001b[37m\u001b[0m \u001b[1m0s\u001b[0m 2ms/step - accuracy: 0.8742 - loss: 0.3098 - val_accuracy: 0.8544 - val_loss: 0.3505\n",
      "Epoch 92/100\n",
      "\u001b[1m200/200\u001b[0m \u001b[32m━━━━━━━━━━━━━━━━━━━━\u001b[0m\u001b[37m\u001b[0m \u001b[1m0s\u001b[0m 2ms/step - accuracy: 0.8701 - loss: 0.3144 - val_accuracy: 0.8544 - val_loss: 0.3519\n",
      "Epoch 93/100\n",
      "\u001b[1m200/200\u001b[0m \u001b[32m━━━━━━━━━━━━━━━━━━━━\u001b[0m\u001b[37m\u001b[0m \u001b[1m0s\u001b[0m 2ms/step - accuracy: 0.8626 - loss: 0.3356 - val_accuracy: 0.8544 - val_loss: 0.3526\n",
      "Epoch 94/100\n",
      "\u001b[1m200/200\u001b[0m \u001b[32m━━━━━━━━━━━━━━━━━━━━\u001b[0m\u001b[37m\u001b[0m \u001b[1m0s\u001b[0m 2ms/step - accuracy: 0.8657 - loss: 0.3259 - val_accuracy: 0.8556 - val_loss: 0.3528\n",
      "Epoch 95/100\n",
      "\u001b[1m200/200\u001b[0m \u001b[32m━━━━━━━━━━━━━━━━━━━━\u001b[0m\u001b[37m\u001b[0m \u001b[1m0s\u001b[0m 2ms/step - accuracy: 0.8689 - loss: 0.3166 - val_accuracy: 0.8562 - val_loss: 0.3515\n",
      "Epoch 96/100\n",
      "\u001b[1m200/200\u001b[0m \u001b[32m━━━━━━━━━━━━━━━━━━━━\u001b[0m\u001b[37m\u001b[0m \u001b[1m0s\u001b[0m 2ms/step - accuracy: 0.8671 - loss: 0.3207 - val_accuracy: 0.8581 - val_loss: 0.3516\n",
      "Epoch 97/100\n",
      "\u001b[1m200/200\u001b[0m \u001b[32m━━━━━━━━━━━━━━━━━━━━\u001b[0m\u001b[37m\u001b[0m \u001b[1m0s\u001b[0m 2ms/step - accuracy: 0.8692 - loss: 0.3189 - val_accuracy: 0.8550 - val_loss: 0.3528\n",
      "Epoch 98/100\n",
      "\u001b[1m200/200\u001b[0m \u001b[32m━━━━━━━━━━━━━━━━━━━━\u001b[0m\u001b[37m\u001b[0m \u001b[1m0s\u001b[0m 2ms/step - accuracy: 0.8672 - loss: 0.3207 - val_accuracy: 0.8544 - val_loss: 0.3523\n",
      "Epoch 99/100\n",
      "\u001b[1m200/200\u001b[0m \u001b[32m━━━━━━━━━━━━━━━━━━━━\u001b[0m\u001b[37m\u001b[0m \u001b[1m0s\u001b[0m 2ms/step - accuracy: 0.8735 - loss: 0.3161 - val_accuracy: 0.8525 - val_loss: 0.3520\n",
      "Epoch 100/100\n",
      "\u001b[1m200/200\u001b[0m \u001b[32m━━━━━━━━━━━━━━━━━━━━\u001b[0m\u001b[37m\u001b[0m \u001b[1m0s\u001b[0m 2ms/step - accuracy: 0.8653 - loss: 0.3254 - val_accuracy: 0.8569 - val_loss: 0.3517\n"
     ]
    }
   ],
   "source": [
    "history = model.fit(X_train_scaled,y_train, epochs=100, validation_split=0.2)"
   ]
  },
  {
   "cell_type": "code",
   "execution_count": 25,
   "id": "22d950f7",
   "metadata": {
    "execution": {
     "iopub.execute_input": "2024-11-16T21:57:39.732612Z",
     "iopub.status.busy": "2024-11-16T21:57:39.732143Z",
     "iopub.status.idle": "2024-11-16T21:57:39.745915Z",
     "shell.execute_reply": "2024-11-16T21:57:39.744584Z"
    },
    "papermill": {
     "duration": 0.111447,
     "end_time": "2024-11-16T21:57:39.748806",
     "exception": false,
     "start_time": "2024-11-16T21:57:39.637359",
     "status": "completed"
    },
    "tags": []
   },
   "outputs": [
    {
     "data": {
      "text/plain": [
       "[array([[ 0.07664617, -0.0388188 , -0.00942927,  0.07871081,  0.0037538 ,\n",
       "         -0.03462911, -0.5522528 ,  0.12278054,  0.05489572,  0.63875157,\n",
       "          0.03796046],\n",
       "        [-0.45984098, -0.7300566 ,  0.46584368,  0.4008484 ,  0.911291  ,\n",
       "         -0.21569455,  0.1624527 , -0.46114764, -0.36951652,  0.10986932,\n",
       "          0.7939944 ],\n",
       "        [-0.13893825,  0.16379508,  0.04168275,  0.07473205,  0.14644241,\n",
       "          0.01988748,  0.31552282, -0.17700166,  0.2906617 , -0.4188658 ,\n",
       "         -0.1609007 ],\n",
       "        [ 0.25237888,  0.00561959, -0.18108933, -0.25903547, -0.3695401 ,\n",
       "         -1.0617323 , -0.63033676, -0.05168415,  0.06811175, -0.32893676,\n",
       "          0.20886245],\n",
       "        [ 0.15650745,  0.95800215, -1.1582824 ,  0.93649447,  0.10028118,\n",
       "         -0.28575298, -0.07853281,  0.13109325,  0.04422097,  0.38484052,\n",
       "          0.7833737 ],\n",
       "        [-0.6584082 , -0.15553091, -0.10829321,  0.06469128, -0.01796939,\n",
       "         -0.58680737, -0.3261754 , -0.1520886 ,  0.69158363, -0.20605582,\n",
       "         -0.29527077],\n",
       "        [ 0.00551677,  0.71301156, -0.1304043 , -0.38334957,  0.62256676,\n",
       "          0.2863408 , -0.01124602, -0.06770761,  0.3022611 ,  0.22175772,\n",
       "         -0.14150329],\n",
       "        [-0.16421176, -0.14849204, -0.01207538,  0.2585505 ,  0.03692773,\n",
       "         -0.1600343 , -0.5327757 ,  0.18186799, -0.02903981,  0.15952405,\n",
       "         -0.05657076],\n",
       "        [-0.71664554, -0.19290501,  0.23101477, -0.3289282 , -0.04296026,\n",
       "         -0.9992126 ,  0.02416348,  0.4726419 , -0.66871583,  0.38149217,\n",
       "          0.4540261 ],\n",
       "        [ 0.50886106, -0.21445854,  0.28876415,  0.25959897,  0.38147578,\n",
       "          0.5012803 , -0.40810162, -1.0208415 ,  0.3562986 ,  0.27269545,\n",
       "          0.12040624],\n",
       "        [ 0.11989524, -0.04602255,  0.06261346, -0.0772303 ,  0.13005304,\n",
       "         -0.04355619,  0.11731347,  0.00954909,  0.22267303,  0.5940366 ,\n",
       "         -0.03190062]], dtype=float32),\n",
       " array([ 0.37994668, -0.00843063,  0.06945717,  0.48386797, -0.6359137 ,\n",
       "         0.38822776,  0.4377262 ,  0.5380489 ,  0.44750512,  0.5285796 ,\n",
       "        -0.27544266], dtype=float32)]"
      ]
     },
     "execution_count": 25,
     "metadata": {},
     "output_type": "execute_result"
    }
   ],
   "source": [
    "model.layers[0].get_weights()"
   ]
  },
  {
   "cell_type": "code",
   "execution_count": 26,
   "id": "fb383f9c",
   "metadata": {
    "execution": {
     "iopub.execute_input": "2024-11-16T21:57:39.937231Z",
     "iopub.status.busy": "2024-11-16T21:57:39.936753Z",
     "iopub.status.idle": "2024-11-16T21:57:39.948047Z",
     "shell.execute_reply": "2024-11-16T21:57:39.946860Z"
    },
    "papermill": {
     "duration": 0.108605,
     "end_time": "2024-11-16T21:57:39.950831",
     "exception": false,
     "start_time": "2024-11-16T21:57:39.842226",
     "status": "completed"
    },
    "tags": []
   },
   "outputs": [
    {
     "data": {
      "text/plain": [
       "[array([[ 0.23404905, -0.04695098,  0.26858404, -0.07371674, -0.5821572 ,\n",
       "         -0.03060133,  0.3445886 , -0.5566997 , -0.8836152 , -0.22150472,\n",
       "         -1.0553029 ],\n",
       "        [ 0.18539858, -0.12316451,  0.40658602, -0.01131607,  0.5344466 ,\n",
       "          0.61473185, -0.7799534 , -0.15533532, -0.7760455 , -1.1718534 ,\n",
       "          0.32351327],\n",
       "        [-0.00462188, -0.21961553,  0.57205725, -0.57219416,  0.6810584 ,\n",
       "         -0.37322313, -0.13589166,  0.12354416,  0.60911316,  0.06277139,\n",
       "          0.16509375],\n",
       "        [ 0.0350494 ,  0.32982507,  0.79521275,  0.29731616,  0.39277828,\n",
       "          0.3937292 , -0.3196259 , -0.3555973 , -0.09800366,  0.12586786,\n",
       "         -0.2764142 ],\n",
       "        [-0.6028686 ,  0.5970955 , -0.381669  , -0.49631333, -0.3758839 ,\n",
       "          0.11076582, -0.476748  ,  1.0570645 , -0.28895238,  0.50320166,\n",
       "          0.7728132 ],\n",
       "        [ 0.05365838,  0.5437962 , -0.5672897 , -0.27506837, -0.15645505,\n",
       "         -0.95850885,  0.2228668 , -0.34647104,  0.62083125,  0.27435276,\n",
       "         -0.43606317],\n",
       "        [-0.11619455, -0.10471505,  0.06664469,  0.7448552 ,  0.11735737,\n",
       "         -0.7400868 , -0.5311931 ,  0.14959753,  0.3248575 , -0.3484542 ,\n",
       "          0.03558196],\n",
       "        [ 0.49060765, -0.28311655, -0.29330695,  0.5300522 , -0.6592031 ,\n",
       "         -0.42347777, -0.4981691 , -0.49838564,  0.15396437,  0.37763098,\n",
       "         -0.8556107 ],\n",
       "        [ 0.49430493,  0.591997  , -0.41397032,  0.10924142, -0.5050308 ,\n",
       "          0.23730275, -0.4909111 , -0.8217011 , -0.38042668, -1.5319439 ,\n",
       "         -0.6334947 ],\n",
       "        [-0.19330487,  0.01697943,  0.0354507 ,  0.6073624 ,  0.20768334,\n",
       "          0.20398973,  0.592965  ,  0.47517645,  0.3641091 , -0.1760337 ,\n",
       "         -0.6526967 ],\n",
       "        [-0.07702899,  0.5030991 ,  0.5750387 , -0.63965607,  0.38188714,\n",
       "          0.38858446, -0.7210707 ,  0.3257172 , -0.08405329, -0.64601976,\n",
       "          0.40573826]], dtype=float32),\n",
       " array([ 0.49831647,  0.61648566, -0.2795539 ,  0.4569686 , -0.03007744,\n",
       "        -0.528615  ,  0.15611866, -0.31715706,  0.06936704,  0.09316142,\n",
       "         0.02211008], dtype=float32)]"
      ]
     },
     "execution_count": 26,
     "metadata": {},
     "output_type": "execute_result"
    }
   ],
   "source": [
    "model.layers[1].get_weights()"
   ]
  },
  {
   "cell_type": "code",
   "execution_count": 27,
   "id": "afd1be65",
   "metadata": {
    "execution": {
     "iopub.execute_input": "2024-11-16T21:57:40.142512Z",
     "iopub.status.busy": "2024-11-16T21:57:40.142025Z",
     "iopub.status.idle": "2024-11-16T21:57:40.427856Z",
     "shell.execute_reply": "2024-11-16T21:57:40.426486Z"
    },
    "papermill": {
     "duration": 0.383088,
     "end_time": "2024-11-16T21:57:40.430589",
     "exception": false,
     "start_time": "2024-11-16T21:57:40.047501",
     "status": "completed"
    },
    "tags": []
   },
   "outputs": [
    {
     "name": "stdout",
     "output_type": "stream",
     "text": [
      "\u001b[1m63/63\u001b[0m \u001b[32m━━━━━━━━━━━━━━━━━━━━\u001b[0m\u001b[37m\u001b[0m \u001b[1m0s\u001b[0m 2ms/step\n"
     ]
    },
    {
     "data": {
      "text/plain": [
       "array([[0.02977777],\n",
       "       [0.11148578],\n",
       "       [0.0312065 ],\n",
       "       ...,\n",
       "       [0.01893233],\n",
       "       [0.03295171],\n",
       "       [0.6366075 ]], dtype=float32)"
      ]
     },
     "execution_count": 27,
     "metadata": {},
     "output_type": "execute_result"
    }
   ],
   "source": [
    "model.predict(X_test_scaled)"
   ]
  },
  {
   "cell_type": "code",
   "execution_count": 28,
   "id": "3bdf48ac",
   "metadata": {
    "execution": {
     "iopub.execute_input": "2024-11-16T21:57:40.625513Z",
     "iopub.status.busy": "2024-11-16T21:57:40.624230Z",
     "iopub.status.idle": "2024-11-16T21:57:40.807740Z",
     "shell.execute_reply": "2024-11-16T21:57:40.806479Z"
    },
    "papermill": {
     "duration": 0.283854,
     "end_time": "2024-11-16T21:57:40.810703",
     "exception": false,
     "start_time": "2024-11-16T21:57:40.526849",
     "status": "completed"
    },
    "tags": []
   },
   "outputs": [
    {
     "name": "stdout",
     "output_type": "stream",
     "text": [
      "\u001b[1m63/63\u001b[0m \u001b[32m━━━━━━━━━━━━━━━━━━━━\u001b[0m\u001b[37m\u001b[0m \u001b[1m0s\u001b[0m 1ms/step\n"
     ]
    },
    {
     "data": {
      "text/plain": [
       "array([[0],\n",
       "       [0],\n",
       "       [0],\n",
       "       ...,\n",
       "       [0],\n",
       "       [0],\n",
       "       [1]])"
      ]
     },
     "execution_count": 28,
     "metadata": {},
     "output_type": "execute_result"
    }
   ],
   "source": [
    "y_log = model.predict(X_test_scaled)\n",
    "y_pred = np.where(y_log>0.5,1,0)\n",
    "y_pred"
   ]
  },
  {
   "cell_type": "code",
   "execution_count": 29,
   "id": "18488627",
   "metadata": {
    "execution": {
     "iopub.execute_input": "2024-11-16T21:57:41.062445Z",
     "iopub.status.busy": "2024-11-16T21:57:41.061334Z",
     "iopub.status.idle": "2024-11-16T21:57:41.072074Z",
     "shell.execute_reply": "2024-11-16T21:57:41.070751Z"
    },
    "papermill": {
     "duration": 0.169515,
     "end_time": "2024-11-16T21:57:41.074670",
     "exception": false,
     "start_time": "2024-11-16T21:57:40.905155",
     "status": "completed"
    },
    "tags": []
   },
   "outputs": [
    {
     "data": {
      "text/plain": [
       "0.8605"
      ]
     },
     "execution_count": 29,
     "metadata": {},
     "output_type": "execute_result"
    }
   ],
   "source": [
    "from sklearn.metrics import accuracy_score\n",
    "accuracy_score(y_test,y_pred)"
   ]
  },
  {
   "cell_type": "markdown",
   "id": "645047d6",
   "metadata": {
    "papermill": {
     "duration": 0.094923,
     "end_time": "2024-11-16T21:57:41.263547",
     "exception": false,
     "start_time": "2024-11-16T21:57:41.168624",
     "status": "completed"
    },
    "tags": []
   },
   "source": [
    "Now change few parameters to increase the accuracy\n",
    "- Increasing nodes from 3 to 11\n",
    "- Changing activation function from sigmoid to relu\n",
    "- Adding one more hidden layer\n",
    "- Increasing epochs from 10 to 100\n",
    "- Adding validation_split\n",
    "- Accuracy increased from 0.8 to 0.86"
   ]
  },
  {
   "cell_type": "code",
   "execution_count": 30,
   "id": "5bd7e41a",
   "metadata": {
    "execution": {
     "iopub.execute_input": "2024-11-16T21:57:41.456276Z",
     "iopub.status.busy": "2024-11-16T21:57:41.455803Z",
     "iopub.status.idle": "2024-11-16T21:57:41.461461Z",
     "shell.execute_reply": "2024-11-16T21:57:41.460206Z"
    },
    "papermill": {
     "duration": 0.105641,
     "end_time": "2024-11-16T21:57:41.464159",
     "exception": false,
     "start_time": "2024-11-16T21:57:41.358518",
     "status": "completed"
    },
    "tags": []
   },
   "outputs": [],
   "source": [
    "import matplotlib.pyplot as plt\n",
    "\n"
   ]
  },
  {
   "cell_type": "code",
   "execution_count": 31,
   "id": "3b17706d",
   "metadata": {
    "execution": {
     "iopub.execute_input": "2024-11-16T21:57:41.657557Z",
     "iopub.status.busy": "2024-11-16T21:57:41.656502Z",
     "iopub.status.idle": "2024-11-16T21:57:41.671156Z",
     "shell.execute_reply": "2024-11-16T21:57:41.669830Z"
    },
    "papermill": {
     "duration": 0.115211,
     "end_time": "2024-11-16T21:57:41.674041",
     "exception": false,
     "start_time": "2024-11-16T21:57:41.558830",
     "status": "completed"
    },
    "tags": []
   },
   "outputs": [
    {
     "data": {
      "text/plain": [
       "{'accuracy': [0.7635937333106995,\n",
       "  0.8192187547683716,\n",
       "  0.8339062333106995,\n",
       "  0.842968761920929,\n",
       "  0.8482812643051147,\n",
       "  0.8535937666893005,\n",
       "  0.8575000166893005,\n",
       "  0.8603125214576721,\n",
       "  0.8617187738418579,\n",
       "  0.8634374737739563,\n",
       "  0.8614062666893005,\n",
       "  0.8621875047683716,\n",
       "  0.8629687428474426,\n",
       "  0.8623437285423279,\n",
       "  0.86328125,\n",
       "  0.86328125,\n",
       "  0.8634374737739563,\n",
       "  0.8646875023841858,\n",
       "  0.8621875047683716,\n",
       "  0.8643749952316284,\n",
       "  0.8635937571525574,\n",
       "  0.8657812476158142,\n",
       "  0.866406261920929,\n",
       "  0.8656250238418579,\n",
       "  0.8667187690734863,\n",
       "  0.8653125166893005,\n",
       "  0.8673437237739563,\n",
       "  0.8662499785423279,\n",
       "  0.8662499785423279,\n",
       "  0.8653125166893005,\n",
       "  0.8653125166893005,\n",
       "  0.8650000095367432,\n",
       "  0.8687499761581421,\n",
       "  0.8678125143051147,\n",
       "  0.8660937547683716,\n",
       "  0.8670312762260437,\n",
       "  0.8678125143051147,\n",
       "  0.8656250238418579,\n",
       "  0.8667187690734863,\n",
       "  0.8660937547683716,\n",
       "  0.8676562309265137,\n",
       "  0.8675000071525574,\n",
       "  0.8653125166893005,\n",
       "  0.867968738079071,\n",
       "  0.8654687404632568,\n",
       "  0.8678125143051147,\n",
       "  0.8667187690734863,\n",
       "  0.8687499761581421,\n",
       "  0.8671875,\n",
       "  0.8662499785423279,\n",
       "  0.8684375286102295,\n",
       "  0.8673437237739563,\n",
       "  0.8685937523841858,\n",
       "  0.8678125143051147,\n",
       "  0.8671875,\n",
       "  0.8668749928474426,\n",
       "  0.8659374713897705,\n",
       "  0.867968738079071,\n",
       "  0.8671875,\n",
       "  0.8668749928474426,\n",
       "  0.8676562309265137,\n",
       "  0.8678125143051147,\n",
       "  0.8678125143051147,\n",
       "  0.8684375286102295,\n",
       "  0.8681250214576721,\n",
       "  0.8676562309265137,\n",
       "  0.8684375286102295,\n",
       "  0.8681250214576721,\n",
       "  0.8684375286102295,\n",
       "  0.8687499761581421,\n",
       "  0.867968738079071,\n",
       "  0.8681250214576721,\n",
       "  0.8696874976158142,\n",
       "  0.8700000047683716,\n",
       "  0.8696874976158142,\n",
       "  0.8673437237739563,\n",
       "  0.8676562309265137,\n",
       "  0.8678125143051147,\n",
       "  0.8690624833106995,\n",
       "  0.8695312738418579,\n",
       "  0.8675000071525574,\n",
       "  0.8690624833106995,\n",
       "  0.8684375286102295,\n",
       "  0.8689062595367432,\n",
       "  0.8696874976158142,\n",
       "  0.8687499761581421,\n",
       "  0.8685937523841858,\n",
       "  0.8681250214576721,\n",
       "  0.8681250214576721,\n",
       "  0.870312511920929,\n",
       "  0.8698437213897705,\n",
       "  0.8690624833106995,\n",
       "  0.8696874976158142,\n",
       "  0.8689062595367432,\n",
       "  0.8693749904632568,\n",
       "  0.8689062595367432,\n",
       "  0.8689062595367432,\n",
       "  0.8693749904632568,\n",
       "  0.8700000047683716,\n",
       "  0.8695312738418579],\n",
       " 'loss': [0.5451375842094421,\n",
       "  0.4312576353549957,\n",
       "  0.40735188126564026,\n",
       "  0.39305225014686584,\n",
       "  0.38079237937927246,\n",
       "  0.37057989835739136,\n",
       "  0.3611764907836914,\n",
       "  0.353878378868103,\n",
       "  0.3484996557235718,\n",
       "  0.34444016218185425,\n",
       "  0.3427753150463104,\n",
       "  0.34062281250953674,\n",
       "  0.33919116854667664,\n",
       "  0.3381049633026123,\n",
       "  0.3366529941558838,\n",
       "  0.33569374680519104,\n",
       "  0.3352547585964203,\n",
       "  0.3349338173866272,\n",
       "  0.3338327407836914,\n",
       "  0.33332359790802,\n",
       "  0.3324693441390991,\n",
       "  0.33230048418045044,\n",
       "  0.33106666803359985,\n",
       "  0.3308615982532501,\n",
       "  0.33077266812324524,\n",
       "  0.3297196924686432,\n",
       "  0.32955318689346313,\n",
       "  0.32868343591690063,\n",
       "  0.3288322687149048,\n",
       "  0.32800403237342834,\n",
       "  0.3276713192462921,\n",
       "  0.3269868791103363,\n",
       "  0.32634010910987854,\n",
       "  0.3268631398677826,\n",
       "  0.32651686668395996,\n",
       "  0.32586875557899475,\n",
       "  0.32568779587745667,\n",
       "  0.3255639374256134,\n",
       "  0.32537224888801575,\n",
       "  0.32457512617111206,\n",
       "  0.3246713876724243,\n",
       "  0.32513096928596497,\n",
       "  0.3243396282196045,\n",
       "  0.3243009150028229,\n",
       "  0.3247757852077484,\n",
       "  0.3240174949169159,\n",
       "  0.32368919253349304,\n",
       "  0.3233184814453125,\n",
       "  0.3236914873123169,\n",
       "  0.32313311100006104,\n",
       "  0.32329073548316956,\n",
       "  0.322255939245224,\n",
       "  0.3225798010826111,\n",
       "  0.3223360776901245,\n",
       "  0.3220355212688446,\n",
       "  0.32256320118904114,\n",
       "  0.3220837414264679,\n",
       "  0.3219781517982483,\n",
       "  0.32153403759002686,\n",
       "  0.3221348226070404,\n",
       "  0.3216843008995056,\n",
       "  0.32173973321914673,\n",
       "  0.3212253451347351,\n",
       "  0.3211531341075897,\n",
       "  0.32151055335998535,\n",
       "  0.32091009616851807,\n",
       "  0.3209677040576935,\n",
       "  0.3208989202976227,\n",
       "  0.3208984434604645,\n",
       "  0.32062163949012756,\n",
       "  0.32051798701286316,\n",
       "  0.31995514035224915,\n",
       "  0.32050421833992004,\n",
       "  0.32017800211906433,\n",
       "  0.32047709822654724,\n",
       "  0.3198513388633728,\n",
       "  0.31999826431274414,\n",
       "  0.31963881850242615,\n",
       "  0.32004740834236145,\n",
       "  0.31954410672187805,\n",
       "  0.3198014795780182,\n",
       "  0.31948843598365784,\n",
       "  0.31941884756088257,\n",
       "  0.31949782371520996,\n",
       "  0.3191930055618286,\n",
       "  0.3192620575428009,\n",
       "  0.31937506794929504,\n",
       "  0.3190525770187378,\n",
       "  0.31856921315193176,\n",
       "  0.3189585208892822,\n",
       "  0.3191346824169159,\n",
       "  0.31864258646965027,\n",
       "  0.31828004121780396,\n",
       "  0.31935471296310425,\n",
       "  0.3185321092605591,\n",
       "  0.3184727132320404,\n",
       "  0.31780996918678284,\n",
       "  0.31820225715637207,\n",
       "  0.31838467717170715,\n",
       "  0.3178108036518097],\n",
       " 'val_accuracy': [0.8037499785423279,\n",
       "  0.8149999976158142,\n",
       "  0.8306249976158142,\n",
       "  0.8324999809265137,\n",
       "  0.8399999737739563,\n",
       "  0.846875011920929,\n",
       "  0.8487499952316284,\n",
       "  0.8487499952316284,\n",
       "  0.8500000238418579,\n",
       "  0.8518750071525574,\n",
       "  0.8512499928474426,\n",
       "  0.8518750071525574,\n",
       "  0.8575000166893005,\n",
       "  0.8575000166893005,\n",
       "  0.856249988079071,\n",
       "  0.8575000166893005,\n",
       "  0.859375,\n",
       "  0.8556249737739563,\n",
       "  0.8575000166893005,\n",
       "  0.859375,\n",
       "  0.8550000190734863,\n",
       "  0.8556249737739563,\n",
       "  0.8575000166893005,\n",
       "  0.8575000166893005,\n",
       "  0.8587499856948853,\n",
       "  0.8556249737739563,\n",
       "  0.8556249737739563,\n",
       "  0.8525000214576721,\n",
       "  0.8556249737739563,\n",
       "  0.8531249761581421,\n",
       "  0.856249988079071,\n",
       "  0.8575000166893005,\n",
       "  0.8556249737739563,\n",
       "  0.8556249737739563,\n",
       "  0.8581249713897705,\n",
       "  0.856249988079071,\n",
       "  0.8550000190734863,\n",
       "  0.8556249737739563,\n",
       "  0.8556249737739563,\n",
       "  0.8531249761581421,\n",
       "  0.8556249737739563,\n",
       "  0.8568750023841858,\n",
       "  0.8550000190734863,\n",
       "  0.8531249761581421,\n",
       "  0.8550000190734863,\n",
       "  0.8537499904632568,\n",
       "  0.8537499904632568,\n",
       "  0.8525000214576721,\n",
       "  0.8556249737739563,\n",
       "  0.8550000190734863,\n",
       "  0.8543750047683716,\n",
       "  0.8537499904632568,\n",
       "  0.8537499904632568,\n",
       "  0.8500000238418579,\n",
       "  0.8537499904632568,\n",
       "  0.8543750047683716,\n",
       "  0.8537499904632568,\n",
       "  0.8537499904632568,\n",
       "  0.8525000214576721,\n",
       "  0.8537499904632568,\n",
       "  0.8556249737739563,\n",
       "  0.8537499904632568,\n",
       "  0.8537499904632568,\n",
       "  0.8531249761581421,\n",
       "  0.8550000190734863,\n",
       "  0.8518750071525574,\n",
       "  0.8543750047683716,\n",
       "  0.8537499904632568,\n",
       "  0.8556249737739563,\n",
       "  0.8556249737739563,\n",
       "  0.8518750071525574,\n",
       "  0.8525000214576721,\n",
       "  0.8525000214576721,\n",
       "  0.8518750071525574,\n",
       "  0.8543750047683716,\n",
       "  0.8543750047683716,\n",
       "  0.8525000214576721,\n",
       "  0.8543750047683716,\n",
       "  0.8537499904632568,\n",
       "  0.8550000190734863,\n",
       "  0.8556249737739563,\n",
       "  0.8550000190734863,\n",
       "  0.8556249737739563,\n",
       "  0.8550000190734863,\n",
       "  0.8525000214576721,\n",
       "  0.8543750047683716,\n",
       "  0.8543750047683716,\n",
       "  0.8550000190734863,\n",
       "  0.8550000190734863,\n",
       "  0.8543750047683716,\n",
       "  0.8543750047683716,\n",
       "  0.8543750047683716,\n",
       "  0.8543750047683716,\n",
       "  0.8556249737739563,\n",
       "  0.856249988079071,\n",
       "  0.8581249713897705,\n",
       "  0.8550000190734863,\n",
       "  0.8543750047683716,\n",
       "  0.8525000214576721,\n",
       "  0.8568750023841858],\n",
       " 'val_loss': [0.4660370349884033,\n",
       "  0.42450714111328125,\n",
       "  0.405187726020813,\n",
       "  0.38945820927619934,\n",
       "  0.37973660230636597,\n",
       "  0.36869895458221436,\n",
       "  0.36036622524261475,\n",
       "  0.35546398162841797,\n",
       "  0.3523555397987366,\n",
       "  0.35117650032043457,\n",
       "  0.3478741943836212,\n",
       "  0.34784170985221863,\n",
       "  0.34529149532318115,\n",
       "  0.34716010093688965,\n",
       "  0.3466450870037079,\n",
       "  0.34435775876045227,\n",
       "  0.34509196877479553,\n",
       "  0.34475165605545044,\n",
       "  0.34449130296707153,\n",
       "  0.34297898411750793,\n",
       "  0.344173789024353,\n",
       "  0.34442833065986633,\n",
       "  0.344207227230072,\n",
       "  0.3456549048423767,\n",
       "  0.34339582920074463,\n",
       "  0.34459561109542847,\n",
       "  0.34404540061950684,\n",
       "  0.3447658121585846,\n",
       "  0.3446158468723297,\n",
       "  0.344013512134552,\n",
       "  0.3447021543979645,\n",
       "  0.3439829647541046,\n",
       "  0.34610477089881897,\n",
       "  0.3446331024169922,\n",
       "  0.3440723419189453,\n",
       "  0.3451893627643585,\n",
       "  0.3464075028896332,\n",
       "  0.345097154378891,\n",
       "  0.3452659249305725,\n",
       "  0.346206396818161,\n",
       "  0.34418046474456787,\n",
       "  0.34624043107032776,\n",
       "  0.34674522280693054,\n",
       "  0.3469146490097046,\n",
       "  0.34538960456848145,\n",
       "  0.3468934893608093,\n",
       "  0.3457636535167694,\n",
       "  0.3470343053340912,\n",
       "  0.34536075592041016,\n",
       "  0.34722521901130676,\n",
       "  0.3472312092781067,\n",
       "  0.3478456139564514,\n",
       "  0.3458084464073181,\n",
       "  0.3467550277709961,\n",
       "  0.34637969732284546,\n",
       "  0.3476114571094513,\n",
       "  0.34967657923698425,\n",
       "  0.3482288718223572,\n",
       "  0.3471717834472656,\n",
       "  0.34741225838661194,\n",
       "  0.34758204221725464,\n",
       "  0.34695956110954285,\n",
       "  0.35122793912887573,\n",
       "  0.34748584032058716,\n",
       "  0.3491092920303345,\n",
       "  0.3483656048774719,\n",
       "  0.3480805456638336,\n",
       "  0.3484252989292145,\n",
       "  0.3472917079925537,\n",
       "  0.348480224609375,\n",
       "  0.34838104248046875,\n",
       "  0.3492749333381653,\n",
       "  0.3492566645145416,\n",
       "  0.35168135166168213,\n",
       "  0.34953951835632324,\n",
       "  0.348778635263443,\n",
       "  0.3499074876308441,\n",
       "  0.3521925210952759,\n",
       "  0.3495504856109619,\n",
       "  0.34958145022392273,\n",
       "  0.3505744934082031,\n",
       "  0.3502837121486664,\n",
       "  0.3498814105987549,\n",
       "  0.3509179651737213,\n",
       "  0.3506965637207031,\n",
       "  0.34964850544929504,\n",
       "  0.3508032262325287,\n",
       "  0.3522987365722656,\n",
       "  0.3498576879501343,\n",
       "  0.3504781424999237,\n",
       "  0.35047587752342224,\n",
       "  0.3518538177013397,\n",
       "  0.35263344645500183,\n",
       "  0.3528291583061218,\n",
       "  0.35151275992393494,\n",
       "  0.35160619020462036,\n",
       "  0.35281887650489807,\n",
       "  0.35226115584373474,\n",
       "  0.3519802987575531,\n",
       "  0.3516536056995392]}"
      ]
     },
     "execution_count": 31,
     "metadata": {},
     "output_type": "execute_result"
    }
   ],
   "source": [
    "history.history"
   ]
  },
  {
   "cell_type": "code",
   "execution_count": 32,
   "id": "8bdbaca9",
   "metadata": {
    "execution": {
     "iopub.execute_input": "2024-11-16T21:57:41.868889Z",
     "iopub.status.busy": "2024-11-16T21:57:41.867490Z",
     "iopub.status.idle": "2024-11-16T21:57:42.178941Z",
     "shell.execute_reply": "2024-11-16T21:57:42.177842Z"
    },
    "papermill": {
     "duration": 0.40997,
     "end_time": "2024-11-16T21:57:42.181544",
     "exception": false,
     "start_time": "2024-11-16T21:57:41.771574",
     "status": "completed"
    },
    "tags": []
   },
   "outputs": [
    {
     "data": {
      "text/plain": [
       "[<matplotlib.lines.Line2D at 0x7f4bc0382500>]"
      ]
     },
     "execution_count": 32,
     "metadata": {},
     "output_type": "execute_result"
    },
    {
     "data": {
      "image/png": "[encoded data removed]",
      "text/plain": [
       "<Figure size 640x480 with 1 Axes>"
      ]
     },
     "metadata": {},
     "output_type": "display_data"
    }
   ],
   "source": [
    "plt.plot(history.history['loss'])\n",
    "plt.plot(history.history['val_loss'])"
   ]
  },
  {
   "cell_type": "code",
   "execution_count": 33,
   "id": "de6fa24e",
   "metadata": {
    "execution": {
     "iopub.execute_input": "2024-11-16T21:57:42.374381Z",
     "iopub.status.busy": "2024-11-16T21:57:42.373895Z",
     "iopub.status.idle": "2024-11-16T21:57:42.652506Z",
     "shell.execute_reply": "2024-11-16T21:57:42.651151Z"
    },
    "papermill": {
     "duration": 0.379558,
     "end_time": "2024-11-16T21:57:42.655543",
     "exception": false,
     "start_time": "2024-11-16T21:57:42.275985",
     "status": "completed"
    },
    "tags": []
   },
   "outputs": [
    {
     "data": {
      "text/plain": [
       "[<matplotlib.lines.Line2D at 0x7f4b79fa4970>]"
      ]
     },
     "execution_count": 33,
     "metadata": {},
     "output_type": "execute_result"
    },
    {
     "data": {
      "image/png": "[encoded data removed]",
      "text/plain": [
       "<Figure size 640x480 with 1 Axes>"
      ]
     },
     "metadata": {},
     "output_type": "display_data"
    }
   ],
   "source": [
    "plt.plot(history.history['accuracy'])\n",
    "plt.plot(history.history['val_accuracy'])"
   ]
  },
  {
   "cell_type": "code",
   "execution_count": null,
   "id": "64cf2369",
   "metadata": {
    "papermill": {
     "duration": 0.10072,
     "end_time": "2024-11-16T21:57:42.857261",
     "exception": false,
     "start_time": "2024-11-16T21:57:42.756541",
     "status": "completed"
    },
    "tags": []
   },
   "outputs": [],
   "source": []
  }
 ],
 "metadata": {
  "kaggle": {
   "accelerator": "none",
   "dataSources": [
    {
     "datasetId": 869651,
     "sourceId": 1481789,
     "sourceType": "datasetVersion"
    }
   ],
   "dockerImageVersionId": 30786,
   "isGpuEnabled": false,
   "isInternetEnabled": false,
   "language": "python",
   "sourceType": "notebook"
  },
  "kernelspec": {
   "display_name": "Python 3",
   "language": "python",
   "name": "python3"
  },
  "language_info": {
   "codemirror_mode": {
    "name": "ipython",
    "version": 3
   },
   "file_extension": ".py",
   "mimetype": "text/x-python",
   "name": "python",
   "nbconvert_exporter": "python",
   "pygments_lexer": "ipython3",
   "version": "3.10.14"
  },
  "papermill": {
   "default_parameters": {},
   "duration": 70.506532,
   "end_time": "2024-11-16T21:57:44.596448",
   "environment_variables": {},
   "exception": null,
   "input_path": "__notebook__.ipynb",
   "output_path": "__notebook__.ipynb",
   "parameters": {},
   "start_time": "2024-11-16T21:56:34.089916",
   "version": "2.6.0"
  }
 },
 "nbformat": 4,
 "nbformat_minor": 5
}
